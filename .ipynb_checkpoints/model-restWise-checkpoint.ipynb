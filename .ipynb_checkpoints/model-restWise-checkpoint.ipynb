{
 "cells": [
  {
   "cell_type": "code",
   "execution_count": 41,
   "id": "3488f333",
   "metadata": {
    "ExecuteTime": {
     "end_time": "2023-02-27T16:45:26.893149Z",
     "start_time": "2023-02-27T16:45:26.880492Z"
    }
   },
   "outputs": [],
   "source": [
    "# imports\n",
    "import json\n",
    "import pandas as pd\n",
    "import numpy as np\n",
    "import random\n",
    "from datetime import datetime, timedelta\n",
    "import sklearn\n",
    "import math\n",
    "from sklearn.feature_extraction.text import CountVectorizer\n",
    "from sklearn.feature_extraction.text import TfidfVectorizer\n",
    "from sklearn.linear_model import LogisticRegression\n",
    "from sklearn.model_selection import train_test_split\n",
    "\n",
    "import time\n",
    "import matplotlib.pyplot as plt\n",
    "\n",
    "from sklearn.model_selection import train_test_split\n",
    "from sklearn.preprocessing import StandardScaler\n",
    "from sklearn.neural_network import MLPClassifier\n",
    "from sklearn.metrics import classification_report, confusion_matrix\n",
    "from sklearn.ensemble import RandomForestRegressor \n",
    "from statistics import mean\n",
    "import pickle\n",
    "import statistics"
   ]
  },
  {
   "cell_type": "code",
   "execution_count": 2,
   "id": "03a22cbb",
   "metadata": {
    "ExecuteTime": {
     "end_time": "2023-02-27T14:19:45.972646Z",
     "start_time": "2023-02-27T14:19:45.968105Z"
    }
   },
   "outputs": [],
   "source": [
    "city = 'Bhopal'\n",
    "month = 'July'\n",
    "PATH = f'./../Item_wise_data/{city}/'\n",
    "# PATH = './../'\n"
   ]
  },
  {
   "cell_type": "code",
   "execution_count": 3,
   "id": "500b335e",
   "metadata": {
    "ExecuteTime": {
     "end_time": "2023-02-27T14:19:48.468061Z",
     "start_time": "2023-02-27T14:19:46.133254Z"
    }
   },
   "outputs": [
    {
     "name": "stderr",
     "output_type": "stream",
     "text": [
      "/tmp/ipykernel_14922/70406848.py:2: DtypeWarning: Columns (5,8,12) have mixed types. Specify dtype option on import or set low_memory=False.\n",
      "  df = pd.read_csv(PATH+f'{month}.csv')\n"
     ]
    }
   ],
   "source": [
    "# exclude non baking items\n",
    "df = pd.read_csv(PATH+f'{month}.csv')\n",
    "df = df[pd.notna(df['Oven_Time'])]\n",
    "df = df.sort_values(by =['Kitchen_Display_Time', 'Location_Code', 'Order_Number'])\n",
    "# df"
   ]
  },
  {
   "cell_type": "code",
   "execution_count": 4,
   "id": "ec45c79b",
   "metadata": {
    "ExecuteTime": {
     "end_time": "2023-02-27T14:19:49.421445Z",
     "start_time": "2023-02-27T14:19:49.314172Z"
    }
   },
   "outputs": [
    {
     "name": "stdout",
     "output_type": "stream",
     "text": [
      "(156415, 29)\n",
      "(156415, 9)\n"
     ]
    }
   ],
   "source": [
    "print(df.shape)\n",
    "df = df.drop(['storedesc', 'city', 'Customer_Code', 'Customer_Name', 'Actual_Order_Date', 'Order_Status_Code', 'Order_Type_Code', 'Order_Saved', 'Order_Time', 'Driver_ID', 'Driver_Shift', 'Route_Time', 'Return_Time', 'Delayed_Order', 'Order_Taker_ID','Order_Taker_Shift', 'Closed_Order_Time', 'Customer_Address_Id', 'Original_Location_Code', 'Order_Id',], axis=1)\n",
    "print(df.shape)\n"
   ]
  },
  {
   "cell_type": "code",
   "execution_count": 5,
   "id": "be15fa7d",
   "metadata": {
    "ExecuteTime": {
     "end_time": "2023-02-27T14:19:50.506728Z",
     "start_time": "2023-02-27T14:19:50.287812Z"
    }
   },
   "outputs": [
    {
     "name": "stdout",
     "output_type": "stream",
     "text": [
      "(156415, 10)\n"
     ]
    },
    {
     "data": {
      "text/html": [
       "<div>\n",
       "<style scoped>\n",
       "    .dataframe tbody tr th:only-of-type {\n",
       "        vertical-align: middle;\n",
       "    }\n",
       "\n",
       "    .dataframe tbody tr th {\n",
       "        vertical-align: top;\n",
       "    }\n",
       "\n",
       "    .dataframe thead th {\n",
       "        text-align: right;\n",
       "    }\n",
       "</style>\n",
       "<table border=\"1\" class=\"dataframe\">\n",
       "  <thead>\n",
       "    <tr style=\"text-align: right;\">\n",
       "      <th></th>\n",
       "      <th>Location_Code</th>\n",
       "      <th>Order_Date</th>\n",
       "      <th>Order_Number</th>\n",
       "      <th>Kitchen_Display_Time</th>\n",
       "      <th>Oven_Time</th>\n",
       "      <th>Menu_Code</th>\n",
       "      <th>Item Description</th>\n",
       "      <th>Quantity</th>\n",
       "      <th>Delivery_Time</th>\n",
       "      <th>prep_time</th>\n",
       "    </tr>\n",
       "  </thead>\n",
       "  <tbody>\n",
       "    <tr>\n",
       "      <th>92935</th>\n",
       "      <td>DPI66576</td>\n",
       "      <td>2022-07-01 00:00:00</td>\n",
       "      <td>1</td>\n",
       "      <td>2022-07-01 11:06:45.417</td>\n",
       "      <td>2022-07-01 11:07:26.867</td>\n",
       "      <td>PIZ0200</td>\n",
       "      <td>Corn n Cheese Paratha Pizza</td>\n",
       "      <td>1.0</td>\n",
       "      <td>NaN</td>\n",
       "      <td>461</td>\n",
       "    </tr>\n",
       "    <tr>\n",
       "      <th>158804</th>\n",
       "      <td>DPI66154</td>\n",
       "      <td>2022-07-01 00:00:00</td>\n",
       "      <td>1</td>\n",
       "      <td>2022-07-01 11:06:53.140</td>\n",
       "      <td>2022-07-01 11:09:58.387</td>\n",
       "      <td>PIZ5106</td>\n",
       "      <td>Chicken Sausage</td>\n",
       "      <td>1.0</td>\n",
       "      <td>2022-07-01 11:24:46.000</td>\n",
       "      <td>605</td>\n",
       "    </tr>\n",
       "    <tr>\n",
       "      <th>33904</th>\n",
       "      <td>DPI66576</td>\n",
       "      <td>2022-07-01 00:00:00</td>\n",
       "      <td>2</td>\n",
       "      <td>2022-07-01 11:12:01.983</td>\n",
       "      <td>2022-07-01 11:13:30.210</td>\n",
       "      <td>PIZ0121</td>\n",
       "      <td>VG2-1Mexican Green</td>\n",
       "      <td>1.0</td>\n",
       "      <td>2022-07-01 11:26:48.840</td>\n",
       "      <td>508</td>\n",
       "    </tr>\n",
       "    <tr>\n",
       "      <th>69467</th>\n",
       "      <td>DPI66576</td>\n",
       "      <td>2022-07-01 00:00:00</td>\n",
       "      <td>2</td>\n",
       "      <td>2022-07-01 11:12:01.983</td>\n",
       "      <td>2022-07-01 11:13:30.697</td>\n",
       "      <td>PIZ0120</td>\n",
       "      <td>VG2-1Peppy Paneer</td>\n",
       "      <td>1.0</td>\n",
       "      <td>2022-07-01 11:26:48.840</td>\n",
       "      <td>509</td>\n",
       "    </tr>\n",
       "    <tr>\n",
       "      <th>53156</th>\n",
       "      <td>DPI66449</td>\n",
       "      <td>2022-07-01 00:00:00</td>\n",
       "      <td>2</td>\n",
       "      <td>2022-07-01 11:12:33.490</td>\n",
       "      <td>2022-07-01 11:13:58.503</td>\n",
       "      <td>PIZ0130</td>\n",
       "      <td>_PM39-Pizza Mania Golden Corn</td>\n",
       "      <td>1.0</td>\n",
       "      <td>2022-07-01 11:32:00.000</td>\n",
       "      <td>505</td>\n",
       "    </tr>\n",
       "  </tbody>\n",
       "</table>\n",
       "</div>"
      ],
      "text/plain": [
       "       Location_Code           Order_Date  Order_Number  \\\n",
       "92935       DPI66576  2022-07-01 00:00:00             1   \n",
       "158804      DPI66154  2022-07-01 00:00:00             1   \n",
       "33904       DPI66576  2022-07-01 00:00:00             2   \n",
       "69467       DPI66576  2022-07-01 00:00:00             2   \n",
       "53156       DPI66449  2022-07-01 00:00:00             2   \n",
       "\n",
       "          Kitchen_Display_Time               Oven_Time Menu_Code  \\\n",
       "92935  2022-07-01 11:06:45.417 2022-07-01 11:07:26.867   PIZ0200   \n",
       "158804 2022-07-01 11:06:53.140 2022-07-01 11:09:58.387   PIZ5106   \n",
       "33904  2022-07-01 11:12:01.983 2022-07-01 11:13:30.210   PIZ0121   \n",
       "69467  2022-07-01 11:12:01.983 2022-07-01 11:13:30.697   PIZ0120   \n",
       "53156  2022-07-01 11:12:33.490 2022-07-01 11:13:58.503   PIZ0130   \n",
       "\n",
       "                     Item Description  Quantity            Delivery_Time  \\\n",
       "92935     Corn n Cheese Paratha Pizza       1.0                      NaN   \n",
       "158804                Chicken Sausage       1.0  2022-07-01 11:24:46.000   \n",
       "33904              VG2-1Mexican Green       1.0  2022-07-01 11:26:48.840   \n",
       "69467               VG2-1Peppy Paneer       1.0  2022-07-01 11:26:48.840   \n",
       "53156   _PM39-Pizza Mania Golden Corn       1.0  2022-07-01 11:32:00.000   \n",
       "\n",
       "        prep_time  \n",
       "92935         461  \n",
       "158804        605  \n",
       "33904         508  \n",
       "69467         509  \n",
       "53156         505  "
      ]
     },
     "execution_count": 5,
     "metadata": {},
     "output_type": "execute_result"
    }
   ],
   "source": [
    "df['Kitchen_Display_Time'] = pd.to_datetime(df['Kitchen_Display_Time'])\n",
    "df['Oven_Time'] = pd.to_datetime(df['Oven_Time'])\n",
    "df['prep_time'] = df['Oven_Time'] - df['Kitchen_Display_Time']\n",
    "df['prep_time'] = round(df['prep_time']/np.timedelta64(1, 's')).astype(int) + 7*60\n",
    "print(df.shape)\n",
    "df.head()"
   ]
  },
  {
   "cell_type": "code",
   "execution_count": 8,
   "id": "b36a4fbb",
   "metadata": {
    "ExecuteTime": {
     "end_time": "2023-02-27T14:20:21.139835Z",
     "start_time": "2023-02-27T14:20:21.089889Z"
    }
   },
   "outputs": [
    {
     "name": "stdout",
     "output_type": "stream",
     "text": [
      "(156385, 10)\n"
     ]
    },
    {
     "data": {
      "text/html": [
       "<div>\n",
       "<style scoped>\n",
       "    .dataframe tbody tr th:only-of-type {\n",
       "        vertical-align: middle;\n",
       "    }\n",
       "\n",
       "    .dataframe tbody tr th {\n",
       "        vertical-align: top;\n",
       "    }\n",
       "\n",
       "    .dataframe thead th {\n",
       "        text-align: right;\n",
       "    }\n",
       "</style>\n",
       "<table border=\"1\" class=\"dataframe\">\n",
       "  <thead>\n",
       "    <tr style=\"text-align: right;\">\n",
       "      <th></th>\n",
       "      <th>Location_Code</th>\n",
       "      <th>Order_Date</th>\n",
       "      <th>Order_Number</th>\n",
       "      <th>Kitchen_Display_Time</th>\n",
       "      <th>Oven_Time</th>\n",
       "      <th>Menu_Code</th>\n",
       "      <th>Item Description</th>\n",
       "      <th>Quantity</th>\n",
       "      <th>Delivery_Time</th>\n",
       "      <th>prep_time</th>\n",
       "    </tr>\n",
       "  </thead>\n",
       "  <tbody>\n",
       "    <tr>\n",
       "      <th>92935</th>\n",
       "      <td>DPI66576</td>\n",
       "      <td>2022-07-01 00:00:00</td>\n",
       "      <td>1</td>\n",
       "      <td>2022-07-01 11:06:45.417</td>\n",
       "      <td>2022-07-01 11:07:26.867</td>\n",
       "      <td>PIZ0200</td>\n",
       "      <td>Corn n Cheese Paratha Pizza</td>\n",
       "      <td>1.0</td>\n",
       "      <td>NaN</td>\n",
       "      <td>461</td>\n",
       "    </tr>\n",
       "    <tr>\n",
       "      <th>158804</th>\n",
       "      <td>DPI66154</td>\n",
       "      <td>2022-07-01 00:00:00</td>\n",
       "      <td>1</td>\n",
       "      <td>2022-07-01 11:06:53.140</td>\n",
       "      <td>2022-07-01 11:09:58.387</td>\n",
       "      <td>PIZ5106</td>\n",
       "      <td>Chicken Sausage</td>\n",
       "      <td>1.0</td>\n",
       "      <td>2022-07-01 11:24:46.000</td>\n",
       "      <td>605</td>\n",
       "    </tr>\n",
       "    <tr>\n",
       "      <th>33904</th>\n",
       "      <td>DPI66576</td>\n",
       "      <td>2022-07-01 00:00:00</td>\n",
       "      <td>2</td>\n",
       "      <td>2022-07-01 11:12:01.983</td>\n",
       "      <td>2022-07-01 11:13:30.210</td>\n",
       "      <td>PIZ0121</td>\n",
       "      <td>VG2-1Mexican Green</td>\n",
       "      <td>1.0</td>\n",
       "      <td>2022-07-01 11:26:48.840</td>\n",
       "      <td>508</td>\n",
       "    </tr>\n",
       "    <tr>\n",
       "      <th>69467</th>\n",
       "      <td>DPI66576</td>\n",
       "      <td>2022-07-01 00:00:00</td>\n",
       "      <td>2</td>\n",
       "      <td>2022-07-01 11:12:01.983</td>\n",
       "      <td>2022-07-01 11:13:30.697</td>\n",
       "      <td>PIZ0120</td>\n",
       "      <td>VG2-1Peppy Paneer</td>\n",
       "      <td>1.0</td>\n",
       "      <td>2022-07-01 11:26:48.840</td>\n",
       "      <td>509</td>\n",
       "    </tr>\n",
       "    <tr>\n",
       "      <th>53156</th>\n",
       "      <td>DPI66449</td>\n",
       "      <td>2022-07-01 00:00:00</td>\n",
       "      <td>2</td>\n",
       "      <td>2022-07-01 11:12:33.490</td>\n",
       "      <td>2022-07-01 11:13:58.503</td>\n",
       "      <td>PIZ0130</td>\n",
       "      <td>_PM39-Pizza Mania Golden Corn</td>\n",
       "      <td>1.0</td>\n",
       "      <td>2022-07-01 11:32:00.000</td>\n",
       "      <td>505</td>\n",
       "    </tr>\n",
       "  </tbody>\n",
       "</table>\n",
       "</div>"
      ],
      "text/plain": [
       "       Location_Code           Order_Date  Order_Number  \\\n",
       "92935       DPI66576  2022-07-01 00:00:00             1   \n",
       "158804      DPI66154  2022-07-01 00:00:00             1   \n",
       "33904       DPI66576  2022-07-01 00:00:00             2   \n",
       "69467       DPI66576  2022-07-01 00:00:00             2   \n",
       "53156       DPI66449  2022-07-01 00:00:00             2   \n",
       "\n",
       "          Kitchen_Display_Time               Oven_Time Menu_Code  \\\n",
       "92935  2022-07-01 11:06:45.417 2022-07-01 11:07:26.867   PIZ0200   \n",
       "158804 2022-07-01 11:06:53.140 2022-07-01 11:09:58.387   PIZ5106   \n",
       "33904  2022-07-01 11:12:01.983 2022-07-01 11:13:30.210   PIZ0121   \n",
       "69467  2022-07-01 11:12:01.983 2022-07-01 11:13:30.697   PIZ0120   \n",
       "53156  2022-07-01 11:12:33.490 2022-07-01 11:13:58.503   PIZ0130   \n",
       "\n",
       "                     Item Description  Quantity            Delivery_Time  \\\n",
       "92935     Corn n Cheese Paratha Pizza       1.0                      NaN   \n",
       "158804                Chicken Sausage       1.0  2022-07-01 11:24:46.000   \n",
       "33904              VG2-1Mexican Green       1.0  2022-07-01 11:26:48.840   \n",
       "69467               VG2-1Peppy Paneer       1.0  2022-07-01 11:26:48.840   \n",
       "53156   _PM39-Pizza Mania Golden Corn       1.0  2022-07-01 11:32:00.000   \n",
       "\n",
       "        prep_time  \n",
       "92935         461  \n",
       "158804        605  \n",
       "33904         508  \n",
       "69467         509  \n",
       "53156         505  "
      ]
     },
     "execution_count": 8,
     "metadata": {},
     "output_type": "execute_result"
    }
   ],
   "source": [
    "isThresholdForPreparationTime = True\n",
    "thresholdForPreparationTime = 30 # minutes for preparation time (threshold)\n",
    "if (isThresholdForPreparationTime):\n",
    "    df = df.loc[df['prep_time'] <= thresholdForPreparationTime*60]\n",
    "print(df.shape)\n",
    "df.head()"
   ]
  },
  {
   "cell_type": "code",
   "execution_count": 9,
   "id": "4877e791",
   "metadata": {
    "ExecuteTime": {
     "end_time": "2023-02-27T14:20:23.336000Z",
     "start_time": "2023-02-27T14:20:23.297995Z"
    }
   },
   "outputs": [
    {
     "data": {
      "text/plain": [
       "12"
      ]
     },
     "execution_count": 9,
     "metadata": {},
     "output_type": "execute_result"
    }
   ],
   "source": [
    "allMenuCodes = df['Menu_Code'].unique()\n",
    "allStoreIds = df['Location_Code'].unique()\n",
    "# allMenuCodes, allStoreIds\n",
    "len(allMenuCodes)\n",
    "len(allStoreIds)"
   ]
  },
  {
   "cell_type": "code",
   "execution_count": 10,
   "id": "dd82fb15",
   "metadata": {
    "ExecuteTime": {
     "end_time": "2023-02-27T14:20:24.431368Z",
     "start_time": "2023-02-27T14:20:24.288576Z"
    }
   },
   "outputs": [],
   "source": [
    "restWiseDFs = {}\n",
    "for storeId in allStoreIds:\n",
    "    restWiseDFs[storeId] = df.loc[df['Location_Code'] == storeId]"
   ]
  },
  {
   "cell_type": "code",
   "execution_count": 11,
   "id": "3259a2ba",
   "metadata": {
    "ExecuteTime": {
     "end_time": "2023-02-27T14:20:26.429756Z",
     "start_time": "2023-02-27T14:20:25.936151Z"
    }
   },
   "outputs": [],
   "source": [
    "sampleItem=None\n",
    "for index, item in df.iterrows():\n",
    "    sampleItem = item\n",
    "    break"
   ]
  },
  {
   "cell_type": "code",
   "execution_count": 12,
   "id": "4ed902e2",
   "metadata": {
    "ExecuteTime": {
     "end_time": "2023-02-27T14:20:26.660339Z",
     "start_time": "2023-02-27T14:20:26.650068Z"
    }
   },
   "outputs": [],
   "source": [
    "# Feature 1: store id\n",
    "def getOneHotEncodingStore(storeId, stores=allStoreIds):\n",
    "    oneHotEncodingList = []\n",
    "    for i in range(0, len(stores)):\n",
    "        if(stores[i] == storeId):\n",
    "            oneHotEncodingList.append(1)\n",
    "        else:\n",
    "            oneHotEncodingList.append(0)\n",
    "    return oneHotEncodingList\n",
    "\n",
    "# returns the feature store id for an order\n",
    "def getStoreId(item, isOneHotEncodingRequired=False):\n",
    "    if isOneHotEncodingRequired:\n",
    "        return getOneHotEncodingStore(item['Location_Code'], allStoreIds)\n",
    "    else:\n",
    "        return [item['Location_Code']]"
   ]
  },
  {
   "cell_type": "code",
   "execution_count": 13,
   "id": "517c95d9",
   "metadata": {
    "ExecuteTime": {
     "end_time": "2023-02-27T14:20:27.311459Z",
     "start_time": "2023-02-27T14:20:27.303465Z"
    }
   },
   "outputs": [
    {
     "name": "stdout",
     "output_type": "stream",
     "text": [
      "['DPI66576']\n",
      "[1, 0, 0, 0, 0, 0, 0, 0, 0, 0, 0, 0]\n"
     ]
    }
   ],
   "source": [
    "print(getStoreId(sampleItem))\n",
    "print(getStoreId(sampleItem, True))"
   ]
  },
  {
   "cell_type": "code",
   "execution_count": 14,
   "id": "73180e66",
   "metadata": {
    "ExecuteTime": {
     "end_time": "2023-02-27T14:20:27.999491Z",
     "start_time": "2023-02-27T14:20:27.988735Z"
    }
   },
   "outputs": [],
   "source": [
    "# Feature 2: Item Type\n",
    "def getOneHotEncodedItemList(item, items=allMenuCodes, clubCategoryWise=False):\n",
    "    if clubCategoryWise:\n",
    "        newItemsList = []\n",
    "        newItemsList = [i[0:3] for i in items]\n",
    "        unique_items = list(dict.fromkeys(newItemsList))\n",
    "        return getOneHotEncodedItemList(item[0:3], unique_items, False)\n",
    "    \n",
    "    oneHotEncodingList=[]\n",
    "    for i in range(0, len(items)):\n",
    "        if (items[i] == item):\n",
    "            oneHotEncodingList.append(1)\n",
    "        else:\n",
    "            oneHotEncodingList.append(0)\n",
    "    return oneHotEncodingList\n",
    "\n",
    "def getItemType(item, clubCategoryWise=False):\n",
    "    return getOneHotEncodedItemList(item['Menu_Code'], allMenuCodes, clubCategoryWise)"
   ]
  },
  {
   "cell_type": "code",
   "execution_count": 15,
   "id": "042b3f08",
   "metadata": {
    "ExecuteTime": {
     "end_time": "2023-02-27T14:20:28.558519Z",
     "start_time": "2023-02-27T14:20:28.549192Z"
    }
   },
   "outputs": [
    {
     "name": "stdout",
     "output_type": "stream",
     "text": [
      "[1, 0, 0, 0, 0, 0, 0, 0, 0, 0, 0, 0, 0, 0, 0, 0, 0, 0, 0, 0, 0, 0, 0, 0, 0, 0, 0, 0, 0, 0, 0, 0, 0, 0, 0, 0, 0, 0, 0, 0, 0, 0, 0, 0, 0, 0, 0, 0, 0, 0, 0, 0, 0, 0, 0, 0, 0, 0, 0, 0, 0, 0, 0, 0, 0, 0, 0, 0, 0, 0, 0, 0, 0, 0, 0, 0, 0, 0, 0, 0, 0, 0, 0, 0, 0, 0, 0, 0, 0, 0, 0, 0, 0, 0, 0, 0, 0, 0, 0, 0, 0, 0, 0, 0, 0, 0, 0, 0, 0, 0, 0, 0, 0, 0, 0, 0, 0, 0, 0, 0, 0, 0, 0, 0, 0, 0, 0, 0, 0, 0, 0, 0, 0, 0, 0, 0, 0, 0, 0, 0, 0, 0, 0, 0, 0, 0]\n",
      "[1, 0, 0, 0, 0, 0, 0]\n",
      "[1, 0, 0, 0, 0, 0, 0]\n",
      "[1, 0, 0, 0, 0, 0, 0]\n"
     ]
    }
   ],
   "source": [
    "print(getItemType(sampleItem))\n",
    "print(getItemType(sampleItem, True))\n",
    "print(getItemType(sampleItem, clubCategoryWise=True))\n",
    "print(getItemType(sampleItem, True))"
   ]
  },
  {
   "cell_type": "code",
   "execution_count": 16,
   "id": "d7728718",
   "metadata": {
    "ExecuteTime": {
     "end_time": "2023-02-27T14:20:29.119417Z",
     "start_time": "2023-02-27T14:20:29.107959Z"
    }
   },
   "outputs": [],
   "source": [
    "# Feature 3: TimeSlot of kitchen display time\n",
    "total_slots = 24\n",
    "def getTimeslot(dt, slots=total_slots):\n",
    "\tcurrent = datetime(2011, 1, 1)\n",
    "\tt1 = current.time()\n",
    "\tt2 = dt.time()\n",
    "\tfor i in range(0, slots):\n",
    "\t\tcurrent = current + timedelta(minutes = 60*24/slots)\n",
    "\t\tif(current.time() > t2):\n",
    "\t\t\treturn i\n",
    "\treturn slots-1\n",
    "\n",
    "def getOneHotEncodingTimeSlot(timeslot):\n",
    "    oneHotEncodingList = []\n",
    "    for i in range(0, 24):\n",
    "        oneHotEncodingList.append(0)\n",
    "    oneHotEncodingList[timeslot] = 1\n",
    "    return oneHotEncodingList\n",
    "\n",
    "def getTimeSlotOfKitchenDisplayTime(item):\n",
    "    timeslot = getTimeslot(item['Kitchen_Display_Time'], 24)\n",
    "    return getOneHotEncodingTimeSlot(timeslot)"
   ]
  },
  {
   "cell_type": "code",
   "execution_count": 17,
   "id": "cfe35ab1",
   "metadata": {
    "ExecuteTime": {
     "end_time": "2023-02-27T14:20:29.588378Z",
     "start_time": "2023-02-27T14:20:29.582537Z"
    }
   },
   "outputs": [],
   "source": [
    "def get_preparation_time(item):\n",
    "    return item['prep_time']\n",
    "# \tdiff = item['Oven_Time'] - item['Kitchen_Display_Time']\n",
    "# \treturn diff.total_seconds() + 7*60"
   ]
  },
  {
   "cell_type": "code",
   "execution_count": 18,
   "id": "98906d7e",
   "metadata": {
    "ExecuteTime": {
     "end_time": "2023-02-27T14:20:30.066451Z",
     "start_time": "2023-02-27T14:20:30.056026Z"
    }
   },
   "outputs": [],
   "source": [
    "# Feature 4 : Count of all baking items of all orders received by the store in the last 20 minutes.\n",
    "\n",
    "def countPastOrders(item, slotTime=30):\n",
    "    storeId = item['Location_Code']\n",
    "    df = restWiseDFs[storeId]\n",
    "    dtKitchenDisplay = item['Kitchen_Display_Time']\n",
    "    lastTime = dtKitchenDisplay - timedelta(minutes=slotTime)\n",
    "    return len(df.loc[(df['Kitchen_Display_Time'] >= lastTime) & \\\n",
    "          (df['Kitchen_Display_Time'] <= dtKitchenDisplay)].index)"
   ]
  },
  {
   "cell_type": "code",
   "execution_count": 19,
   "id": "ab3c2888",
   "metadata": {
    "ExecuteTime": {
     "end_time": "2023-02-27T14:20:30.500440Z",
     "start_time": "2023-02-27T14:20:30.492965Z"
    }
   },
   "outputs": [],
   "source": [
    "d = datetime.strptime('2021-12-20 00:00:00', '%Y-%m-%d %H:%M:%S')\n"
   ]
  },
  {
   "cell_type": "code",
   "execution_count": 20,
   "id": "13d55221",
   "metadata": {
    "ExecuteTime": {
     "end_time": "2023-02-27T14:24:44.150630Z",
     "start_time": "2023-02-27T14:20:30.982436Z"
    },
    "collapsed": true
   },
   "outputs": [
    {
     "name": "stderr",
     "output_type": "stream",
     "text": [
      "/tmp/ipykernel_14922/2333041051.py:6: SettingWithCopyWarning: \n",
      "A value is trying to be set on a copy of a slice from a DataFrame.\n",
      "Try using .loc[row_indexer,col_indexer] = value instead\n",
      "\n",
      "See the caveats in the documentation: https://pandas.pydata.org/pandas-docs/stable/user_guide/indexing.html#returning-a-view-versus-a-copy\n",
      "  restWiseDFs[storeId]['avg_kpt_in_last_one_hour'] = 0 # to create a new column with initial values 0\n",
      "/tmp/ipykernel_14922/2333041051.py:6: SettingWithCopyWarning: \n",
      "A value is trying to be set on a copy of a slice from a DataFrame.\n",
      "Try using .loc[row_indexer,col_indexer] = value instead\n",
      "\n",
      "See the caveats in the documentation: https://pandas.pydata.org/pandas-docs/stable/user_guide/indexing.html#returning-a-view-versus-a-copy\n",
      "  restWiseDFs[storeId]['avg_kpt_in_last_one_hour'] = 0 # to create a new column with initial values 0\n",
      "/tmp/ipykernel_14922/2333041051.py:6: SettingWithCopyWarning: \n",
      "A value is trying to be set on a copy of a slice from a DataFrame.\n",
      "Try using .loc[row_indexer,col_indexer] = value instead\n",
      "\n",
      "See the caveats in the documentation: https://pandas.pydata.org/pandas-docs/stable/user_guide/indexing.html#returning-a-view-versus-a-copy\n",
      "  restWiseDFs[storeId]['avg_kpt_in_last_one_hour'] = 0 # to create a new column with initial values 0\n",
      "/tmp/ipykernel_14922/2333041051.py:6: SettingWithCopyWarning: \n",
      "A value is trying to be set on a copy of a slice from a DataFrame.\n",
      "Try using .loc[row_indexer,col_indexer] = value instead\n",
      "\n",
      "See the caveats in the documentation: https://pandas.pydata.org/pandas-docs/stable/user_guide/indexing.html#returning-a-view-versus-a-copy\n",
      "  restWiseDFs[storeId]['avg_kpt_in_last_one_hour'] = 0 # to create a new column with initial values 0\n",
      "/tmp/ipykernel_14922/2333041051.py:6: SettingWithCopyWarning: \n",
      "A value is trying to be set on a copy of a slice from a DataFrame.\n",
      "Try using .loc[row_indexer,col_indexer] = value instead\n",
      "\n",
      "See the caveats in the documentation: https://pandas.pydata.org/pandas-docs/stable/user_guide/indexing.html#returning-a-view-versus-a-copy\n",
      "  restWiseDFs[storeId]['avg_kpt_in_last_one_hour'] = 0 # to create a new column with initial values 0\n",
      "/tmp/ipykernel_14922/2333041051.py:6: SettingWithCopyWarning: \n",
      "A value is trying to be set on a copy of a slice from a DataFrame.\n",
      "Try using .loc[row_indexer,col_indexer] = value instead\n",
      "\n",
      "See the caveats in the documentation: https://pandas.pydata.org/pandas-docs/stable/user_guide/indexing.html#returning-a-view-versus-a-copy\n",
      "  restWiseDFs[storeId]['avg_kpt_in_last_one_hour'] = 0 # to create a new column with initial values 0\n",
      "/tmp/ipykernel_14922/2333041051.py:6: SettingWithCopyWarning: \n",
      "A value is trying to be set on a copy of a slice from a DataFrame.\n",
      "Try using .loc[row_indexer,col_indexer] = value instead\n",
      "\n",
      "See the caveats in the documentation: https://pandas.pydata.org/pandas-docs/stable/user_guide/indexing.html#returning-a-view-versus-a-copy\n",
      "  restWiseDFs[storeId]['avg_kpt_in_last_one_hour'] = 0 # to create a new column with initial values 0\n",
      "/tmp/ipykernel_14922/2333041051.py:6: SettingWithCopyWarning: \n",
      "A value is trying to be set on a copy of a slice from a DataFrame.\n",
      "Try using .loc[row_indexer,col_indexer] = value instead\n",
      "\n",
      "See the caveats in the documentation: https://pandas.pydata.org/pandas-docs/stable/user_guide/indexing.html#returning-a-view-versus-a-copy\n",
      "  restWiseDFs[storeId]['avg_kpt_in_last_one_hour'] = 0 # to create a new column with initial values 0\n",
      "/tmp/ipykernel_14922/2333041051.py:6: SettingWithCopyWarning: \n",
      "A value is trying to be set on a copy of a slice from a DataFrame.\n",
      "Try using .loc[row_indexer,col_indexer] = value instead\n",
      "\n",
      "See the caveats in the documentation: https://pandas.pydata.org/pandas-docs/stable/user_guide/indexing.html#returning-a-view-versus-a-copy\n",
      "  restWiseDFs[storeId]['avg_kpt_in_last_one_hour'] = 0 # to create a new column with initial values 0\n",
      "/tmp/ipykernel_14922/2333041051.py:6: SettingWithCopyWarning: \n",
      "A value is trying to be set on a copy of a slice from a DataFrame.\n",
      "Try using .loc[row_indexer,col_indexer] = value instead\n",
      "\n",
      "See the caveats in the documentation: https://pandas.pydata.org/pandas-docs/stable/user_guide/indexing.html#returning-a-view-versus-a-copy\n",
      "  restWiseDFs[storeId]['avg_kpt_in_last_one_hour'] = 0 # to create a new column with initial values 0\n",
      "/tmp/ipykernel_14922/2333041051.py:6: SettingWithCopyWarning: \n",
      "A value is trying to be set on a copy of a slice from a DataFrame.\n",
      "Try using .loc[row_indexer,col_indexer] = value instead\n",
      "\n",
      "See the caveats in the documentation: https://pandas.pydata.org/pandas-docs/stable/user_guide/indexing.html#returning-a-view-versus-a-copy\n",
      "  restWiseDFs[storeId]['avg_kpt_in_last_one_hour'] = 0 # to create a new column with initial values 0\n",
      "/tmp/ipykernel_14922/2333041051.py:6: SettingWithCopyWarning: \n",
      "A value is trying to be set on a copy of a slice from a DataFrame.\n",
      "Try using .loc[row_indexer,col_indexer] = value instead\n",
      "\n",
      "See the caveats in the documentation: https://pandas.pydata.org/pandas-docs/stable/user_guide/indexing.html#returning-a-view-versus-a-copy\n",
      "  restWiseDFs[storeId]['avg_kpt_in_last_one_hour'] = 0 # to create a new column with initial values 0\n"
     ]
    }
   ],
   "source": [
    "# TIME CONSUMING (4 m 14 seconds for Bhopal)\n",
    "# Feature 5 : Avg prep time of the same item in the same store in last 60 minutes.\n",
    "\n",
    "for storeId in restWiseDFs:\n",
    "    avgPrepTime = restWiseDFs[storeId]['prep_time'].mean()    \n",
    "    restWiseDFs[storeId]['avg_kpt_in_last_one_hour'] = 0 # to create a new column with initial values 0\n",
    "    \n",
    "    for index, item in restWiseDFs[storeId].iterrows():\n",
    "        itemCode = item['Menu_Code']\n",
    "        dtKitchenDisplay = item['Kitchen_Display_Time']\n",
    "        \n",
    "        lastTime = dtKitchenDisplay - timedelta(minutes=60)\n",
    "        \n",
    "        df2 = restWiseDFs[storeId].loc[(restWiseDFs[storeId]['Kitchen_Display_Time'] >= lastTime) & \\\n",
    "                     (restWiseDFs[storeId]['Kitchen_Display_Time'] < dtKitchenDisplay) & \\\n",
    "                                 (restWiseDFs[storeId]['Menu_Code'] == itemCode)]\n",
    "        if (len(df2.index) != 0):\n",
    "            restWiseDFs[storeId].at[index, 'avg_kpt_in_last_one_hour'] = df2['prep_time'].mean()\n",
    "        else:\n",
    "            restWiseDFs[storeId].at[index, 'avg_kpt_in_last_one_hour'] =  avgPrepTime\n",
    "\n"
   ]
  },
  {
   "cell_type": "code",
   "execution_count": 21,
   "id": "54158b53",
   "metadata": {
    "ExecuteTime": {
     "end_time": "2023-02-27T14:24:44.162436Z",
     "start_time": "2023-02-27T14:24:44.155004Z"
    }
   },
   "outputs": [],
   "source": [
    "def getPreviousPrepTime(item, timeslot = 60):\n",
    "    if(timeslot == 60):\n",
    "        return item['avg_kpt_in_last_one_hour']\n",
    "    else:\n",
    "        itemCode = item['Menu_Code']\n",
    "        df = restWiseDFs[item['Location_Code']]\n",
    "        \n",
    "        dtKitchenDisplay = item['Kitchen_Display_Time']\n",
    "        \n",
    "        lastTime = dtKitchenDisplay - timedelta(minutes=timeslot)\n",
    "        \n",
    "        df2 = df.loc[(df['Kitchen_Display_Time'] >= lastTime) & \\\n",
    "                     (df['Kitchen_Display_Time'] < dtKitchenDisplay) & \\\n",
    "                                 (df['Menu_Code'] == itemCode)]\n",
    "        if (len(df2.index) != 0):\n",
    "            return df2['prep_time'].mean()\n",
    "        else:\n",
    "            return restWiseDFs[storeId]['prep_time'].mean()    "
   ]
  },
  {
   "cell_type": "code",
   "execution_count": 22,
   "id": "a6c90edd",
   "metadata": {
    "ExecuteTime": {
     "end_time": "2023-02-27T14:24:47.546346Z",
     "start_time": "2023-02-27T14:24:44.164459Z"
    }
   },
   "outputs": [],
   "source": [
    "# Feature 6 : Length of the queue in the store at that time\n",
    "def lengthQueue(item):\n",
    "    dtKitchenDisplay = item['Kitchen_Display_Time']\n",
    "    d = restWiseDFs[item['Location_Code']]\n",
    "    return len(d[(d['Oven_Time'] >= dtKitchenDisplay) & (d['Kitchen_Display_Time'] <= dtKitchenDisplay)]['Order_Number'].index)"
   ]
  },
  {
   "cell_type": "code",
   "execution_count": 23,
   "id": "7d7f459b",
   "metadata": {
    "ExecuteTime": {
     "end_time": "2023-02-27T14:24:47.743687Z",
     "start_time": "2023-02-27T14:24:47.555934Z"
    }
   },
   "outputs": [],
   "source": [
    "sampleItem=None\n",
    "for index, item in restWiseDFs[storeId].iterrows():\n",
    "    sampleItem = item\n",
    "    break"
   ]
  },
  {
   "cell_type": "code",
   "execution_count": 24,
   "id": "e34eb51d",
   "metadata": {
    "ExecuteTime": {
     "end_time": "2023-02-27T14:24:48.088332Z",
     "start_time": "2023-02-27T14:24:47.746074Z"
    }
   },
   "outputs": [
    {
     "data": {
      "text/plain": [
       "2"
      ]
     },
     "execution_count": 24,
     "metadata": {},
     "output_type": "execute_result"
    }
   ],
   "source": [
    "lengthQueue(sampleItem)"
   ]
  },
  {
   "cell_type": "code",
   "execution_count": 25,
   "id": "7b85e23b",
   "metadata": {
    "ExecuteTime": {
     "end_time": "2023-02-27T14:24:48.100851Z",
     "start_time": "2023-02-27T14:24:48.094850Z"
    }
   },
   "outputs": [],
   "source": [
    "# global variables\n",
    "\n",
    "clubItemsCategoryWise = False\n",
    "\n",
    "splitMethod = 'random'\n",
    "slotTimeForPastOrders = 20 # minutes\n",
    "\n",
    "model = 'RF'\n",
    "isOneHotEncodingRequired = True\n",
    "isNormalizationRequired = True"
   ]
  },
  {
   "cell_type": "code",
   "execution_count": 26,
   "id": "636ecf24",
   "metadata": {
    "ExecuteTime": {
     "end_time": "2023-02-27T14:24:48.174223Z",
     "start_time": "2023-02-27T14:24:48.103602Z"
    }
   },
   "outputs": [],
   "source": [
    "def save_object(obj, filename):\n",
    "    with open(filename, 'wb') as outp:  # Overwrites any existing file.\n",
    "        pickle.dump(obj, outp, pickle.HIGHEST_PROTOCOL)"
   ]
  },
  {
   "cell_type": "code",
   "execution_count": 27,
   "id": "d513b5e3",
   "metadata": {
    "ExecuteTime": {
     "end_time": "2023-02-27T14:24:48.316916Z",
     "start_time": "2023-02-27T14:24:48.180214Z"
    }
   },
   "outputs": [],
   "source": [
    "save_object(restWiseDFs, f'restWiseDFsBeforeFeatureCreation{city}.pkl')"
   ]
  },
  {
   "cell_type": "code",
   "execution_count": null,
   "id": "ecd2d076",
   "metadata": {
    "ExecuteTime": {
     "start_time": "2023-02-27T20:29:51.643Z"
    }
   },
   "outputs": [],
   "source": [
    "totalFeatures = (len(allMenuCodes) +  # one hot encoded item type\n",
    "                24 +  #one hot encoded timeslot of the day\n",
    "                1 +  #count past orders\n",
    "                1 + # average previous preparation time in last 1 hour\n",
    "                1+1) # length of the current queue\n",
    "feature_cols = []\n",
    "for i in range(0, totalFeatures):\n",
    "    feature_cols.append('feature_'+str(i+1))"
   ]
  },
  {
   "cell_type": "code",
   "execution_count": null,
   "id": "4c8691b9",
   "metadata": {
    "ExecuteTime": {
     "start_time": "2023-02-27T20:29:52.058Z"
    }
   },
   "outputs": [],
   "source": [
    "def isHeavyLoadDay(dt):\n",
    "    if(dt.weekday() >= 5):\n",
    "        return 1\n",
    "    return 0"
   ]
  },
  {
   "cell_type": "code",
   "execution_count": 101,
   "id": "d558b02e",
   "metadata": {
    "ExecuteTime": {
     "end_time": "2023-02-27T20:29:55.510608Z",
     "start_time": "2023-02-27T20:29:55.495133Z"
    }
   },
   "outputs": [],
   "source": [
    "def updateFeatures(storeId, Xnp):\n",
    "    restWiseDFs[storeId][feature_cols] = Xnp"
   ]
  },
  {
   "cell_type": "code",
   "execution_count": 102,
   "id": "e135b945",
   "metadata": {
    "ExecuteTime": {
     "end_time": "2023-02-27T20:33:19.492708Z",
     "start_time": "2023-02-27T20:29:55.516344Z"
    },
    "scrolled": true
   },
   "outputs": [],
   "source": [
    "# TIME CONSUMING (3m 21s for Bhopal)\n",
    "for storeId in restWiseDFs:\n",
    "    X = []\n",
    "    df = restWiseDFs[storeId]\n",
    "    for index, item in df.iterrows():\n",
    "        features = getItemType(item)\n",
    "        features +=  getTimeSlotOfKitchenDisplayTime(item)\n",
    "        features += [countPastOrders(item, slotTimeForPastOrders)]\n",
    "        features += [getPreviousPrepTime(item, timeslot = 60)]\n",
    "        features += [lengthQueue(item), isHeavyLoadDay(item['Kitchen_Display_Time'])]\n",
    "        X.append(features)\n",
    "    \n",
    "    Xnp = np.array(X)\n",
    "    updateFeatures(storeId, Xnp)"
   ]
  },
  {
   "cell_type": "code",
   "execution_count": 103,
   "id": "ef377b61",
   "metadata": {
    "ExecuteTime": {
     "end_time": "2023-02-27T20:33:20.517468Z",
     "start_time": "2023-02-27T20:33:19.500882Z"
    }
   },
   "outputs": [],
   "source": [
    "restWiseScalers = {}\n",
    "\n",
    "# normalize feature values\n",
    "for storeId in allStoreIds:\n",
    "    X = restWiseDFs[storeId].loc[:, feature_cols]\n",
    "    scaler = StandardScaler()\n",
    "    if(isNormalizationRequired):\n",
    "        scaler.fit(X)\n",
    "        X_scaled = scaler.transform(X)\n",
    "        X_scalednp = np.array(X_scaled)\n",
    "        updateFeatures(storeId, X_scalednp)"
   ]
  },
  {
   "cell_type": "code",
   "execution_count": 104,
   "id": "0ac081b2",
   "metadata": {
    "ExecuteTime": {
     "end_time": "2023-02-27T20:33:21.586375Z",
     "start_time": "2023-02-27T20:33:20.519694Z"
    }
   },
   "outputs": [],
   "source": [
    "save_object(restWiseDFs, f'restWiseDFsWithNormalizedFeatures{city}.pkl')"
   ]
  },
  {
   "cell_type": "code",
   "execution_count": 105,
   "id": "4d647b20",
   "metadata": {
    "ExecuteTime": {
     "end_time": "2023-02-27T20:33:21.595411Z",
     "start_time": "2023-02-27T20:33:21.590057Z"
    }
   },
   "outputs": [],
   "source": [
    "def getRMSE(actual, predictions):\n",
    "    mse = sklearn.metrics.mean_squared_error(actual, predictions)\n",
    "    return math.sqrt(mse)"
   ]
  },
  {
   "cell_type": "code",
   "execution_count": 106,
   "id": "335de2ba",
   "metadata": {
    "ExecuteTime": {
     "end_time": "2023-02-27T20:34:12.258460Z",
     "start_time": "2023-02-27T20:33:21.600323Z"
    }
   },
   "outputs": [
    {
     "name": "stdout",
     "output_type": "stream",
     "text": [
      "RMSE score overall for store (30 days) DPI66576 :   65.15729502035599\n",
      "RMSE score overall for store (30 days) DPI66154 :   65.30789304887728\n",
      "RMSE score overall for store (30 days) DPI66449 :   89.33332714923527\n",
      "RMSE score overall for store (30 days) DPI66313 :   29.780998189319234\n",
      "RMSE score overall for store (30 days) DPI63827 :   63.79269188729977\n",
      "RMSE score overall for store (30 days) DPI66653 :   81.70251422550501\n",
      "RMSE score overall for store (30 days) DPI66221 :   77.70770919786365\n",
      "RMSE score overall for store (30 days) DPI64196 :   50.30952209948981\n",
      "RMSE score overall for store (30 days) DPI67072 :   104.91848702788876\n",
      "RMSE score overall for store (30 days) DPI66373 :   65.21302722770896\n",
      "RMSE score overall for store (30 days) DPI66153 :   63.66649538161317\n",
      "RMSE score overall for store (30 days) DPI63919 :   89.33470660030562\n"
     ]
    }
   ],
   "source": [
    "# Time Consuming (training on first 14 days of July)\n",
    "restWiseModels = {}\n",
    "\n",
    "for storeId in allStoreIds:\n",
    "    firstTime = datetime(2022, 7, 1)\n",
    "    lastTime = datetime(2022, 7, 14)\n",
    "    trainingData = restWiseDFs[storeId].loc[(restWiseDFs[storeId]['Kitchen_Display_Time'] >= firstTime) & \\\n",
    "          (restWiseDFs[storeId]['Kitchen_Display_Time'] <= lastTime)]\n",
    "    \n",
    "    X_train = trainingData.loc[:, feature_cols]\n",
    "    y_train = trainingData.prep_time.values.tolist()\n",
    "    \n",
    "    regressor = RandomForestRegressor()\n",
    "    regressor.fit(X_train, y_train)\n",
    "    restWiseModels[storeId] = regressor\n",
    "    \n",
    "    \n",
    "    X = restWiseDFs[storeId].loc[:, feature_cols]\n",
    "    y = restWiseDFs[storeId].prep_time.values.tolist()\n",
    "    predictions = regressor.predict(X)\n",
    "    restWiseDFs[storeId]['predicted_prep_time'] = predictions\n",
    "    \n",
    "    a = getRMSE(y, predictions)\n",
    "    print(\"RMSE score overall for store (30 days) \"+storeId+\" :  \", a)"
   ]
  },
  {
   "cell_type": "code",
   "execution_count": 107,
   "id": "c8011b50",
   "metadata": {
    "ExecuteTime": {
     "end_time": "2023-02-27T20:34:13.417671Z",
     "start_time": "2023-02-27T20:34:12.261781Z"
    }
   },
   "outputs": [],
   "source": [
    "save_object(restWiseDFs, f'restWiseDFsWithPredictions{city}.pkl')"
   ]
  },
  {
   "cell_type": "code",
   "execution_count": 108,
   "id": "c39c659c",
   "metadata": {
    "ExecuteTime": {
     "end_time": "2023-02-27T20:34:16.935939Z",
     "start_time": "2023-02-27T20:34:13.421735Z"
    }
   },
   "outputs": [],
   "source": [
    "save_object(restWiseModels, f'restWiseModels{city}.pkl')"
   ]
  },
  {
   "cell_type": "code",
   "execution_count": 122,
   "id": "7b8d7565",
   "metadata": {
    "ExecuteTime": {
     "end_time": "2023-02-27T20:55:45.376602Z",
     "start_time": "2023-02-27T20:55:45.356864Z"
    }
   },
   "outputs": [],
   "source": [
    "def getPredictionHyperparameters(startDay, endDay): # both are included\n",
    "    df = pd.DataFrame()\n",
    "    firstTime = datetime(2022, 7, startDay)\n",
    "    lastTime = datetime(2022, 7, endDay) + timedelta(days=1)\n",
    "    for storeId in allStoreIds:\n",
    "        df2 = restWiseDFs[storeId].loc[(restWiseDFs[storeId]['Kitchen_Display_Time'] >= firstTime) & \\\n",
    "          (restWiseDFs[storeId]['Kitchen_Display_Time'] < lastTime)]\n",
    "        df = pd.concat([df, df2], ignore_index = True)\n",
    "    \n",
    "    rmse = ((df.prep_time - df.predicted_prep_time) ** 2).mean() ** .5\n",
    "    \n",
    "    absError = (abs(df.prep_time - df.predicted_prep_time)).values.tolist()\n",
    "    meanAbsError = statistics.mean(absError)\n",
    "    medianAbsError = statistics.median(absError)\n",
    "    stdAbsError = statistics.stdev(absError)\n",
    "    \n",
    "    error = (df.prep_time - df.predicted_prep_time).values.tolist()\n",
    "    meanError = statistics.mean(error)\n",
    "    medianError = statistics.median(error)\n",
    "    stdError = statistics.stdev(error)\n",
    "    \n",
    "    accuracy = ((df.prep_time - abs(df.prep_time - df.predicted_prep_time))/df.prep_time).values.tolist()\n",
    "    meanAccuracy = statistics.mean(accuracy)\n",
    "    medianAccuracy = statistics.median(accuracy)\n",
    "    stdAccuracy = statistics.stdev(accuracy)\n",
    "    return rmse, (meanAbsError, medianAbsError, stdAbsError), (meanError, medianError, stdError), (meanAccuracy, medianAccuracy, stdAccuracy)"
   ]
  },
  {
   "cell_type": "code",
   "execution_count": 80,
   "id": "6958c9f8",
   "metadata": {
    "ExecuteTime": {
     "end_time": "2023-02-27T19:32:44.259131Z",
     "start_time": "2023-02-27T19:32:44.245450Z"
    }
   },
   "outputs": [],
   "source": [
    "# def getBaselineHyperparamters(startDay, endDay):\n",
    "#     df = pd.DataFrame()\n",
    "#     firstTime = datetime(2022, 7, startDay)\n",
    "#     lastTime = datetime(2022, 7, endDay) + timedelta(days=1)\n",
    "#     for storeId in allStoreIds:\n",
    "#         df2 = restWiseDFs[storeId].loc[(restWiseDFs[storeId]['Kitchen_Display_Time'] >= firstTime) & \\\n",
    "#           (restWiseDFs[storeId]['Kitchen_Display_Time'] < lastTime)]\n",
    "#         df = pd.concat([df, df2], ignore_index = True)\n",
    "    \n",
    "#     rmse = ((df.prep_time - df['prep_time'].mean()) ** 2).mean() ** .5\n",
    "    \n",
    "#     error = (abs(df.prep_time - df['prep_time'].mean())).values.tolist()\n",
    "#     absError = (abs(df.prep_time - df.predicted_prep_time)).values.tolist()\n",
    "#     meanAbsError = statistics.mean(error)\n",
    "#     medianAbsError = statistics.median(error)\n",
    "#     stdAbsError = statistics.stdev(error)\n",
    "    \n",
    "#     error = (abs(df.prep_time - df.predicted_prep_time)).values.tolist()\n",
    "#     meanError = statistics.mean(error)\n",
    "#     medianError = statistics.median(error)\n",
    "#     stdError = statistics.stdev(error)\n",
    "#     return rmse, meanAbsError, medianAbsError, stdAbsError, meanError, medianError, stdError"
   ]
  },
  {
   "cell_type": "code",
   "execution_count": 74,
   "id": "45f9dd4d",
   "metadata": {
    "ExecuteTime": {
     "end_time": "2023-02-27T19:29:47.329009Z",
     "start_time": "2023-02-27T19:29:47.320918Z"
    }
   },
   "outputs": [
    {
     "name": "stdout",
     "output_type": "stream",
     "text": [
      "HELLO\n"
     ]
    }
   ],
   "source": [
    "print(\"HELLO\")"
   ]
  },
  {
   "cell_type": "code",
   "execution_count": 81,
   "id": "281a6487",
   "metadata": {
    "ExecuteTime": {
     "end_time": "2023-02-27T19:32:49.868191Z",
     "start_time": "2023-02-27T19:32:49.143149Z"
    }
   },
   "outputs": [
    {
     "data": {
      "text/plain": [
       "(32.85109404636338, 17.588030358897278, 9.228583333333233, 27.746475542811286)"
      ]
     },
     "execution_count": 81,
     "metadata": {},
     "output_type": "execute_result"
    }
   ],
   "source": [
    "getPredictionHyperparameters(1, 14)"
   ]
  },
  {
   "cell_type": "code",
   "execution_count": 82,
   "id": "c3c351e0",
   "metadata": {
    "ExecuteTime": {
     "end_time": "2023-02-27T19:32:53.242425Z",
     "start_time": "2023-02-27T19:32:52.808940Z"
    }
   },
   "outputs": [
    {
     "data": {
      "text/plain": [
       "(112.09885934663545, 76.95348180234451, 63.77180891794785, 81.51327345688885)"
      ]
     },
     "execution_count": 82,
     "metadata": {},
     "output_type": "execute_result"
    }
   ],
   "source": [
    "getBaselineHyperparamters(1, 14)"
   ]
  },
  {
   "cell_type": "code",
   "execution_count": 123,
   "id": "87e1f424",
   "metadata": {
    "ExecuteTime": {
     "end_time": "2023-02-27T20:55:50.031908Z",
     "start_time": "2023-02-27T20:55:48.832311Z"
    }
   },
   "outputs": [],
   "source": [
    "rmseList = []\n",
    "meanAbsErrorList = []\n",
    "medianAbsErrorList = []\n",
    "stdAbsErrorList = []\n",
    "meanErrorList = []\n",
    "medianErrorList = []\n",
    "stdErrorList = []\n",
    "meanAccuracyList = []\n",
    "medianAccuracyList = []\n",
    "stdAccuracyList = []\n",
    "\n",
    "x = [15, 16, 17, 18, 19, 20, 21, 22, 23, 24, 25, 26, 27, 28, 29, 30, 31]\n",
    "\n",
    "for i in x:\n",
    "    (rmse, (meanAbsError, medianAbsError, stdAbsError), \n",
    "    (meanError, medianError, stdError), \n",
    "    (meanAccuracy, medianAccuracy, stdAccuracy)) = getPredictionHyperparameters(i,i)\n",
    "    rmseList.append(rmse)\n",
    "    meanAbsErrorList.append(meanAbsError)\n",
    "    medianAbsErrorList.append(medianAbsError)\n",
    "    stdAbsErrorList.append(stdAbsError)\n",
    "    meanErrorList.append(meanError)\n",
    "    medianErrorList.append(medianError)\n",
    "    stdErrorList.append(stdError)\n",
    "    meanAccuracyList.append(meanAccuracy)\n",
    "    medianAccuracyList.append(medianAccuracy)\n",
    "    stdAccuracyList.append(stdAccuracy)"
   ]
  },
  {
   "cell_type": "code",
   "execution_count": 133,
   "id": "3da6820d",
   "metadata": {
    "ExecuteTime": {
     "end_time": "2023-02-27T21:08:39.625001Z",
     "start_time": "2023-02-27T21:08:39.323226Z"
    }
   },
   "outputs": [
    {
     "data": {
      "image/png": "[encoded data removed]",
      "text/plain": [
       "<Figure size 640x480 with 1 Axes>"
      ]
     },
     "metadata": {},
     "output_type": "display_data"
    }
   ],
   "source": [
    "# plot for 15, 20, 25, 30 july \n",
    "plt.bar(x, rmseList)\n",
    "plt.xticks(x)\n",
    "plt.xlabel(\"Date\")\n",
    "plt.ylabel(\"RMSE value on the respective day\")\n",
    "plt.title(\"Model detoiration with days\")\n",
    "plt.savefig(f'{city}_1.png')"
   ]
  },
  {
   "cell_type": "code",
   "execution_count": null,
   "id": "954fa3a2",
   "metadata": {},
   "outputs": [],
   "source": []
  },
  {
   "cell_type": "code",
   "execution_count": null,
   "id": "d2d27811",
   "metadata": {},
   "outputs": [],
   "source": []
  },
  {
   "cell_type": "code",
   "execution_count": 134,
   "id": "a7275d7e",
   "metadata": {
    "ExecuteTime": {
     "end_time": "2023-02-27T21:08:59.496583Z",
     "start_time": "2023-02-27T21:08:59.176178Z"
    }
   },
   "outputs": [
    {
     "data": {
      "image/png": "[encoded data removed]",
      "text/plain": [
       "<Figure size 640x480 with 1 Axes>"
      ]
     },
     "metadata": {},
     "output_type": "display_data"
    }
   ],
   "source": [
    "# plot for 15, 20, 25, 30 july \n",
    "plt.bar(x, medianAbsErrorList)\n",
    "plt.xticks(x)\n",
    "plt.xlabel(\"Date\")\n",
    "plt.ylabel(\"Absolute Value of error (median) on the respective day\")\n",
    "plt.title(\"Model detoiration with days\")\n",
    "plt.savefig(f'{city}_3.png')"
   ]
  },
  {
   "cell_type": "code",
   "execution_count": 135,
   "id": "9d98e9e6",
   "metadata": {
    "ExecuteTime": {
     "end_time": "2023-02-27T21:09:01.092511Z",
     "start_time": "2023-02-27T21:09:00.550504Z"
    }
   },
   "outputs": [
    {
     "data": {
      "image/png": "[encoded data removed]",
      "text/plain": [
       "<Figure size 640x480 with 1 Axes>"
      ]
     },
     "metadata": {},
     "output_type": "display_data"
    }
   ],
   "source": [
    "# plot for 15, 20, 25, 30 july \n",
    "plt.errorbar(x, meanErrorList, stdErrorList)\n",
    "plt.xticks(x)\n",
    "plt.xlabel(\"Date\")\n",
    "plt.ylabel(\"error (mean, std dev of the day) on the respective day\")\n",
    "plt.title(\"Model detoiration with days\")\n",
    "plt.savefig(f'{city}_4.png')"
   ]
  },
  {
   "cell_type": "code",
   "execution_count": 136,
   "id": "e4180da9",
   "metadata": {
    "ExecuteTime": {
     "end_time": "2023-02-27T21:09:01.638006Z",
     "start_time": "2023-02-27T21:09:01.310816Z"
    }
   },
   "outputs": [
    {
     "data": {
      "image/png": "[encoded data removed]",
      "text/plain": [
       "<Figure size 640x480 with 1 Axes>"
      ]
     },
     "metadata": {},
     "output_type": "display_data"
    }
   ],
   "source": [
    "# plot for 15, 20, 25, 30 july \n",
    "plt.bar(x, medianErrorList)\n",
    "plt.xticks(x)\n",
    "plt.xlabel(\"Date\")\n",
    "plt.ylabel(\"error (median) on the respective day\")\n",
    "plt.title(\"Model detoiration with days\")\n",
    "plt.savefig(f'{city}_5.png')"
   ]
  },
  {
   "cell_type": "code",
   "execution_count": 137,
   "id": "96ca9374",
   "metadata": {
    "ExecuteTime": {
     "end_time": "2023-02-27T21:09:03.105545Z",
     "start_time": "2023-02-27T21:09:02.739000Z"
    }
   },
   "outputs": [
    {
     "data": {
      "image/png": "[encoded data removed]",
      "text/plain": [
       "<Figure size 640x480 with 1 Axes>"
      ]
     },
     "metadata": {},
     "output_type": "display_data"
    }
   ],
   "source": [
    "# plot for 15, 20, 25, 30 july \n",
    "plt.errorbar(x, meanAccuracyList, stdAccuracyList)\n",
    "plt.xticks(x)\n",
    "plt.xlabel(\"Date\")\n",
    "plt.ylabel(\"Accuracy (mean, std dev of the day) on the respective day\")\n",
    "plt.title(\"Model detoiration with days\")\n",
    "plt.savefig(f'{city}_6.png')\n",
    "\n"
   ]
  },
  {
   "cell_type": "code",
   "execution_count": 138,
   "id": "bcdf4bd8",
   "metadata": {
    "ExecuteTime": {
     "end_time": "2023-02-27T21:09:04.244635Z",
     "start_time": "2023-02-27T21:09:03.916751Z"
    }
   },
   "outputs": [
    {
     "data": {
      "image/png": "[encoded data removed]",
      "text/plain": [
       "<Figure size 640x480 with 1 Axes>"
      ]
     },
     "metadata": {},
     "output_type": "display_data"
    }
   ],
   "source": [
    "# plot for 15, 20, 25, 30 july \n",
    "plt.bar(x, medianAccuracyList)\n",
    "plt.xticks(x)\n",
    "plt.xlabel(\"Date\")\n",
    "plt.ylabel(\"Accuracy (median) on the respective day\")\n",
    "plt.title(\"Model detoiration with days\")\n",
    "plt.savefig(f'{city}_7.png')\n"
   ]
  },
  {
   "cell_type": "code",
   "execution_count": null,
   "id": "f5d14574",
   "metadata": {},
   "outputs": [],
   "source": [
    "## RANDOM SPLIT"
   ]
  },
  {
   "cell_type": "code",
   "execution_count": 139,
   "id": "dd6cfea0",
   "metadata": {
    "ExecuteTime": {
     "end_time": "2023-02-27T21:20:25.586742Z",
     "start_time": "2023-02-27T21:18:37.011589Z"
    }
   },
   "outputs": [
    {
     "name": "stdout",
     "output_type": "stream",
     "text": [
      "RMSE score overall for store (30 days) DPI66576 :   35.511651663284795\n",
      "RMSE score overall for store (30 days) DPI66154 :   35.10633734170773\n",
      "RMSE score overall for store (30 days) DPI66449 :   48.188383131558695\n",
      "RMSE score overall for store (30 days) DPI66313 :   16.434375016548262\n",
      "RMSE score overall for store (30 days) DPI63827 :   38.79560646832527\n",
      "RMSE score overall for store (30 days) DPI66653 :   45.461066852827955\n",
      "RMSE score overall for store (30 days) DPI66221 :   42.555303846779516\n",
      "RMSE score overall for store (30 days) DPI64196 :   27.760023331681104\n",
      "RMSE score overall for store (30 days) DPI67072 :   43.82699504582038\n",
      "RMSE score overall for store (30 days) DPI66373 :   34.04563578170969\n",
      "RMSE score overall for store (30 days) DPI66153 :   37.635467055958365\n",
      "RMSE score overall for store (30 days) DPI63919 :   37.44155940481346\n"
     ]
    }
   ],
   "source": [
    "# Time Consuming (training on random 80% data training and remaining 20% testing)\n",
    "restWiseModelsRandomSplit = []\n",
    "restWiseRmseListRandomSplit = []\n",
    "restWiseMeanAbsErrorListRandomSplit = []\n",
    "restWiseMedianAbsErrorListRandomSplit = []\n",
    "restWiseStdAbsErrorListRandomSplit = []\n",
    "restWiseMeanErrorListRandomSplit = []\n",
    "restWiseMedianErrorListRandomSplit = []\n",
    "restWiseStdErrorListRandomSplit = []\n",
    "restWiseMeanAccuracyListRandomSplit = []\n",
    "medianAccuracyListRandomSplit = []\n",
    "stdAccuracyListRandomSplit = []\n",
    "\n",
    "for storeId in allStoreIds:\n",
    "    X = restWiseDFs[storeId].loc[:, feature_cols]\n",
    "    y = restWiseDFs[storeId].prep_time.values.tolist()\n",
    "    \n",
    "    X_train, X_test, y_train, y_test = train_test_split(X, y, test_size = 0.20, random_state = 42)\n",
    "    \n",
    "    \n",
    "    regressor = RandomForestRegressor()\n",
    "    regressor.fit(X_train, y_train)\n",
    "    restWiseModelsRandomSplit[storeId] = regressor\n",
    "\n",
    "    predictions = regressor.predict(X)\n",
    "    restWiseDFs[storeId]['predicted_prep_time_random_split'] = predictions\n",
    "    \n",
    "    predictions_train = regressor.predict(X_train)\n",
    "    predictions_test = regressor.predict(X_test)\n",
    "    \n",
    "    a = getRMSE(y, predictions)\n",
    "    print(\"RMSE score overall for store (30 days) \"+storeId+\" :  \", a)\n",
    "    \n"
   ]
  },
  {
   "cell_type": "code",
   "execution_count": null,
   "id": "85817acc",
   "metadata": {},
   "outputs": [],
   "source": []
  },
  {
   "cell_type": "code",
   "execution_count": null,
   "id": "c96374c7",
   "metadata": {},
   "outputs": [],
   "source": []
  },
  {
   "cell_type": "code",
   "execution_count": null,
   "id": "55435cdb",
   "metadata": {},
   "outputs": [],
   "source": []
  },
  {
   "cell_type": "code",
   "execution_count": null,
   "id": "1db54875",
   "metadata": {},
   "outputs": [],
   "source": []
  },
  {
   "cell_type": "code",
   "execution_count": null,
   "id": "ba01970d",
   "metadata": {},
   "outputs": [],
   "source": []
  },
  {
   "cell_type": "code",
   "execution_count": null,
   "id": "c8df6ed9",
   "metadata": {},
   "outputs": [],
   "source": []
  },
  {
   "cell_type": "code",
   "execution_count": null,
   "id": "7fc9a61f",
   "metadata": {},
   "outputs": [],
   "source": []
  },
  {
   "cell_type": "code",
   "execution_count": null,
   "id": "a94cc435",
   "metadata": {},
   "outputs": [],
   "source": []
  },
  {
   "cell_type": "code",
   "execution_count": null,
   "id": "3a171966",
   "metadata": {},
   "outputs": [],
   "source": []
  },
  {
   "cell_type": "code",
   "execution_count": null,
   "id": "a8858acd",
   "metadata": {},
   "outputs": [],
   "source": []
  },
  {
   "cell_type": "code",
   "execution_count": 37,
   "id": "da34a6ec",
   "metadata": {
    "ExecuteTime": {
     "end_time": "2023-02-27T14:28:57.192494Z",
     "start_time": "2023-02-27T14:28:57.170052Z"
    }
   },
   "outputs": [],
   "source": [
    "if splitMethod == 'random':\n",
    "    X_train, X_test, y_train, y_test = train_test_split(X, y, test_size = 0.20, random_state = 42)"
   ]
  },
  {
   "cell_type": "code",
   "execution_count": null,
   "id": "f410b876",
   "metadata": {},
   "outputs": [],
   "source": []
  },
  {
   "cell_type": "code",
   "execution_count": 27,
   "id": "72cf9a71",
   "metadata": {},
   "outputs": [
    {
     "name": "stdout",
     "output_type": "stream",
     "text": [
      "Random Forest Model\n"
     ]
    },
    {
     "ename": "ValueError",
     "evalue": "Expected 2D array, got 1D array instead:\narray=[].\nReshape your data either using array.reshape(-1, 1) if your data has a single feature or array.reshape(1, -1) if it contains a single sample.",
     "output_type": "error",
     "traceback": [
      "\u001b[0;31m---------------------------------------------------------------------------\u001b[0m",
      "\u001b[0;31mValueError\u001b[0m                                Traceback (most recent call last)",
      "Cell \u001b[0;32mIn[27], line 7\u001b[0m\n\u001b[1;32m      5\u001b[0m \u001b[38;5;28;01mif\u001b[39;00m(isNormalizationRequired):\n\u001b[1;32m      6\u001b[0m     scaler \u001b[38;5;241m=\u001b[39m StandardScaler()\n\u001b[0;32m----> 7\u001b[0m     \u001b[43mscaler\u001b[49m\u001b[38;5;241;43m.\u001b[39;49m\u001b[43mfit\u001b[49m\u001b[43m(\u001b[49m\u001b[43mX_train\u001b[49m\u001b[43m)\u001b[49m\n\u001b[1;32m      9\u001b[0m     X_train \u001b[38;5;241m=\u001b[39m scaler\u001b[38;5;241m.\u001b[39mtransform(X_train)\n\u001b[1;32m     10\u001b[0m     X_test \u001b[38;5;241m=\u001b[39m scaler\u001b[38;5;241m.\u001b[39mtransform(X_test)\n",
      "File \u001b[0;32m~/dominos/lib/python3.10/site-packages/sklearn/preprocessing/_data.py:824\u001b[0m, in \u001b[0;36mStandardScaler.fit\u001b[0;34m(self, X, y, sample_weight)\u001b[0m\n\u001b[1;32m    822\u001b[0m \u001b[38;5;66;03m# Reset internal state before fitting\u001b[39;00m\n\u001b[1;32m    823\u001b[0m \u001b[38;5;28mself\u001b[39m\u001b[38;5;241m.\u001b[39m_reset()\n\u001b[0;32m--> 824\u001b[0m \u001b[38;5;28;01mreturn\u001b[39;00m \u001b[38;5;28;43mself\u001b[39;49m\u001b[38;5;241;43m.\u001b[39;49m\u001b[43mpartial_fit\u001b[49m\u001b[43m(\u001b[49m\u001b[43mX\u001b[49m\u001b[43m,\u001b[49m\u001b[43m \u001b[49m\u001b[43my\u001b[49m\u001b[43m,\u001b[49m\u001b[43m \u001b[49m\u001b[43msample_weight\u001b[49m\u001b[43m)\u001b[49m\n",
      "File \u001b[0;32m~/dominos/lib/python3.10/site-packages/sklearn/preprocessing/_data.py:861\u001b[0m, in \u001b[0;36mStandardScaler.partial_fit\u001b[0;34m(self, X, y, sample_weight)\u001b[0m\n\u001b[1;32m    858\u001b[0m \u001b[38;5;28mself\u001b[39m\u001b[38;5;241m.\u001b[39m_validate_params()\n\u001b[1;32m    860\u001b[0m first_call \u001b[38;5;241m=\u001b[39m \u001b[38;5;129;01mnot\u001b[39;00m \u001b[38;5;28mhasattr\u001b[39m(\u001b[38;5;28mself\u001b[39m, \u001b[38;5;124m\"\u001b[39m\u001b[38;5;124mn_samples_seen_\u001b[39m\u001b[38;5;124m\"\u001b[39m)\n\u001b[0;32m--> 861\u001b[0m X \u001b[38;5;241m=\u001b[39m \u001b[38;5;28;43mself\u001b[39;49m\u001b[38;5;241;43m.\u001b[39;49m\u001b[43m_validate_data\u001b[49m\u001b[43m(\u001b[49m\n\u001b[1;32m    862\u001b[0m \u001b[43m    \u001b[49m\u001b[43mX\u001b[49m\u001b[43m,\u001b[49m\n\u001b[1;32m    863\u001b[0m \u001b[43m    \u001b[49m\u001b[43maccept_sparse\u001b[49m\u001b[38;5;241;43m=\u001b[39;49m\u001b[43m(\u001b[49m\u001b[38;5;124;43m\"\u001b[39;49m\u001b[38;5;124;43mcsr\u001b[39;49m\u001b[38;5;124;43m\"\u001b[39;49m\u001b[43m,\u001b[49m\u001b[43m \u001b[49m\u001b[38;5;124;43m\"\u001b[39;49m\u001b[38;5;124;43mcsc\u001b[39;49m\u001b[38;5;124;43m\"\u001b[39;49m\u001b[43m)\u001b[49m\u001b[43m,\u001b[49m\n\u001b[1;32m    864\u001b[0m \u001b[43m    \u001b[49m\u001b[43mdtype\u001b[49m\u001b[38;5;241;43m=\u001b[39;49m\u001b[43mFLOAT_DTYPES\u001b[49m\u001b[43m,\u001b[49m\n\u001b[1;32m    865\u001b[0m \u001b[43m    \u001b[49m\u001b[43mforce_all_finite\u001b[49m\u001b[38;5;241;43m=\u001b[39;49m\u001b[38;5;124;43m\"\u001b[39;49m\u001b[38;5;124;43mallow-nan\u001b[39;49m\u001b[38;5;124;43m\"\u001b[39;49m\u001b[43m,\u001b[49m\n\u001b[1;32m    866\u001b[0m \u001b[43m    \u001b[49m\u001b[43mreset\u001b[49m\u001b[38;5;241;43m=\u001b[39;49m\u001b[43mfirst_call\u001b[49m\u001b[43m,\u001b[49m\n\u001b[1;32m    867\u001b[0m \u001b[43m\u001b[49m\u001b[43m)\u001b[49m\n\u001b[1;32m    868\u001b[0m n_features \u001b[38;5;241m=\u001b[39m X\u001b[38;5;241m.\u001b[39mshape[\u001b[38;5;241m1\u001b[39m]\n\u001b[1;32m    870\u001b[0m \u001b[38;5;28;01mif\u001b[39;00m sample_weight \u001b[38;5;129;01mis\u001b[39;00m \u001b[38;5;129;01mnot\u001b[39;00m \u001b[38;5;28;01mNone\u001b[39;00m:\n",
      "File \u001b[0;32m~/dominos/lib/python3.10/site-packages/sklearn/base.py:546\u001b[0m, in \u001b[0;36mBaseEstimator._validate_data\u001b[0;34m(self, X, y, reset, validate_separately, **check_params)\u001b[0m\n\u001b[1;32m    544\u001b[0m     \u001b[38;5;28;01mraise\u001b[39;00m \u001b[38;5;167;01mValueError\u001b[39;00m(\u001b[38;5;124m\"\u001b[39m\u001b[38;5;124mValidation should be done on X, y or both.\u001b[39m\u001b[38;5;124m\"\u001b[39m)\n\u001b[1;32m    545\u001b[0m \u001b[38;5;28;01melif\u001b[39;00m \u001b[38;5;129;01mnot\u001b[39;00m no_val_X \u001b[38;5;129;01mand\u001b[39;00m no_val_y:\n\u001b[0;32m--> 546\u001b[0m     X \u001b[38;5;241m=\u001b[39m \u001b[43mcheck_array\u001b[49m\u001b[43m(\u001b[49m\u001b[43mX\u001b[49m\u001b[43m,\u001b[49m\u001b[43m \u001b[49m\u001b[43minput_name\u001b[49m\u001b[38;5;241;43m=\u001b[39;49m\u001b[38;5;124;43m\"\u001b[39;49m\u001b[38;5;124;43mX\u001b[39;49m\u001b[38;5;124;43m\"\u001b[39;49m\u001b[43m,\u001b[49m\u001b[43m \u001b[49m\u001b[38;5;241;43m*\u001b[39;49m\u001b[38;5;241;43m*\u001b[39;49m\u001b[43mcheck_params\u001b[49m\u001b[43m)\u001b[49m\n\u001b[1;32m    547\u001b[0m     out \u001b[38;5;241m=\u001b[39m X\n\u001b[1;32m    548\u001b[0m \u001b[38;5;28;01melif\u001b[39;00m no_val_X \u001b[38;5;129;01mand\u001b[39;00m \u001b[38;5;129;01mnot\u001b[39;00m no_val_y:\n",
      "File \u001b[0;32m~/dominos/lib/python3.10/site-packages/sklearn/utils/validation.py:902\u001b[0m, in \u001b[0;36mcheck_array\u001b[0;34m(array, accept_sparse, accept_large_sparse, dtype, order, copy, force_all_finite, ensure_2d, allow_nd, ensure_min_samples, ensure_min_features, estimator, input_name)\u001b[0m\n\u001b[1;32m    900\u001b[0m     \u001b[38;5;66;03m# If input is 1D raise error\u001b[39;00m\n\u001b[1;32m    901\u001b[0m     \u001b[38;5;28;01mif\u001b[39;00m array\u001b[38;5;241m.\u001b[39mndim \u001b[38;5;241m==\u001b[39m \u001b[38;5;241m1\u001b[39m:\n\u001b[0;32m--> 902\u001b[0m         \u001b[38;5;28;01mraise\u001b[39;00m \u001b[38;5;167;01mValueError\u001b[39;00m(\n\u001b[1;32m    903\u001b[0m             \u001b[38;5;124m\"\u001b[39m\u001b[38;5;124mExpected 2D array, got 1D array instead:\u001b[39m\u001b[38;5;130;01m\\n\u001b[39;00m\u001b[38;5;124marray=\u001b[39m\u001b[38;5;132;01m{}\u001b[39;00m\u001b[38;5;124m.\u001b[39m\u001b[38;5;130;01m\\n\u001b[39;00m\u001b[38;5;124m\"\u001b[39m\n\u001b[1;32m    904\u001b[0m             \u001b[38;5;124m\"\u001b[39m\u001b[38;5;124mReshape your data either using array.reshape(-1, 1) if \u001b[39m\u001b[38;5;124m\"\u001b[39m\n\u001b[1;32m    905\u001b[0m             \u001b[38;5;124m\"\u001b[39m\u001b[38;5;124myour data has a single feature or array.reshape(1, -1) \u001b[39m\u001b[38;5;124m\"\u001b[39m\n\u001b[1;32m    906\u001b[0m             \u001b[38;5;124m\"\u001b[39m\u001b[38;5;124mif it contains a single sample.\u001b[39m\u001b[38;5;124m\"\u001b[39m\u001b[38;5;241m.\u001b[39mformat(array)\n\u001b[1;32m    907\u001b[0m         )\n\u001b[1;32m    909\u001b[0m \u001b[38;5;28;01mif\u001b[39;00m dtype_numeric \u001b[38;5;129;01mand\u001b[39;00m array\u001b[38;5;241m.\u001b[39mdtype\u001b[38;5;241m.\u001b[39mkind \u001b[38;5;129;01min\u001b[39;00m \u001b[38;5;124m\"\u001b[39m\u001b[38;5;124mUSV\u001b[39m\u001b[38;5;124m\"\u001b[39m:\n\u001b[1;32m    910\u001b[0m     \u001b[38;5;28;01mraise\u001b[39;00m \u001b[38;5;167;01mValueError\u001b[39;00m(\n\u001b[1;32m    911\u001b[0m         \u001b[38;5;124m\"\u001b[39m\u001b[38;5;124mdtype=\u001b[39m\u001b[38;5;124m'\u001b[39m\u001b[38;5;124mnumeric\u001b[39m\u001b[38;5;124m'\u001b[39m\u001b[38;5;124m is not compatible with arrays of bytes/strings.\u001b[39m\u001b[38;5;124m\"\u001b[39m\n\u001b[1;32m    912\u001b[0m         \u001b[38;5;124m\"\u001b[39m\u001b[38;5;124mConvert your data to numeric values explicitly instead.\u001b[39m\u001b[38;5;124m\"\u001b[39m\n\u001b[1;32m    913\u001b[0m     )\n",
      "\u001b[0;31mValueError\u001b[0m: Expected 2D array, got 1D array instead:\narray=[].\nReshape your data either using array.reshape(-1, 1) if your data has a single feature or array.reshape(1, -1) if it contains a single sample."
     ]
    }
   ],
   "source": [
    "# random forest\n",
    "if (model=='RF'):\n",
    "    print(\"Random Forest Model\")\n",
    "    regressor = RandomForestRegressor()\n",
    "    if(isNormalizationRequired):\n",
    "        scaler = StandardScaler()\n",
    "        scaler.fit(X_train)\n",
    "\n",
    "        X_train = scaler.transform(X_train)\n",
    "        X_test = scaler.transform(X_test)\n",
    "    \n",
    "    regressor.fit(X_train, y_train)\n",
    "    predictions = regressor.predict(X_train)\n",
    "    print(\"RMSE score on train set: \", getRMSE(y_train, predictions))\n",
    "        \n",
    "    predictions = regressor.predict(X_test)\n",
    "    print(\"RMSE score on test set: \", getRMSE(y_test, predictions))\n",
    "\n",
    "print(\"time training done\", time.time()-t100)"
   ]
  },
  {
   "cell_type": "code",
   "execution_count": 28,
   "id": "6b094515",
   "metadata": {},
   "outputs": [
    {
     "ename": "NameError",
     "evalue": "name 'allStoreIds' is not defined",
     "output_type": "error",
     "traceback": [
      "\u001b[0;31m---------------------------------------------------------------------------\u001b[0m",
      "\u001b[0;31mNameError\u001b[0m                                 Traceback (most recent call last)",
      "Cell \u001b[0;32mIn[28], line 3\u001b[0m\n\u001b[1;32m      1\u001b[0m X_t \u001b[38;5;241m=\u001b[39m []\n\u001b[1;32m      2\u001b[0m Y_t \u001b[38;5;241m=\u001b[39m []\n\u001b[0;32m----> 3\u001b[0m \u001b[38;5;28;01mfor\u001b[39;00m j \u001b[38;5;129;01min\u001b[39;00m \u001b[38;5;28mrange\u001b[39m(\u001b[38;5;241m0\u001b[39m, \u001b[38;5;28mlen\u001b[39m(\u001b[43mallStoreIds\u001b[49m)):\n\u001b[1;32m      4\u001b[0m     xx \u001b[38;5;241m=\u001b[39m []\n\u001b[1;32m      5\u001b[0m     yy \u001b[38;5;241m=\u001b[39m []\n",
      "\u001b[0;31mNameError\u001b[0m: name 'allStoreIds' is not defined"
     ]
    }
   ],
   "source": [
    "X_t = []\n",
    "Y_t = []\n",
    "for j in range(0, len(allStoreIds)):\n",
    "    xx = []\n",
    "    yy = []\n",
    "    for i in range(0, len(X_test)):\n",
    "        if(X_test[i][j] > 0):\n",
    "            xx.append(X_test[i])\n",
    "            yy.append(y_test[i])\n",
    "    X_t.append(j)\n",
    "    Y_t.append(getRMSE(yy, regressor.predict(xx)))\n",
    "    \n",
    "plt.bar(X_t, Y_t)\n",
    "plt.xticks(X_t)\n",
    "plt.xlabel(\"Store Id\")\n",
    "plt.ylabel(\"RMSE value of test set\")\n",
    "plt.title(\"Preparation time prediction\")\n",
    "plt.savefig(f'plots/{city}_{month}_1.png')\n",
    "# plt.show()"
   ]
  },
  {
   "cell_type": "code",
   "execution_count": null,
   "id": "7009f1c4",
   "metadata": {},
   "outputs": [],
   "source": [
    "X_Axis = [i for i in range(10, 24)]\n",
    "RMSETimeSlotWise = {}\n",
    "total_items = len(allMenuCodes)+len(allStoreIds)\n",
    "for x in X_Axis:\n",
    "    x1 = []\n",
    "    y1 = []\n",
    "    for i in range(0, len(X_test)):\n",
    "        if(X_test[i][total_items+x] > 0):\n",
    "            x1.append(X_test[i])\n",
    "            y1.append(y_test[i])\n",
    "    RMSETimeSlotWise[x] = getRMSE(y1, regressor.predict(x1))\n",
    "    \n",
    "X_axis = list(RMSETimeSlotWise.keys())\n",
    "Y_axis = list(RMSETimeSlotWise.values())\n",
    "\n",
    "plt.bar(X_axis, Y_axis)\n",
    "plt.xticks(X_axis, rotation='vertical')\n",
    "plt.xlabel(\"Time slot\")\n",
    "plt.ylabel(\"RMSE value of test set\")\n",
    "plt.title(\"Preparation time prediction over different time slots\")\n",
    "plt.savefig(f'plots/{city}_{month}_2.png')\n",
    "# plt.show()"
   ]
  },
  {
   "cell_type": "code",
   "execution_count": null,
   "id": "2b86a9f7",
   "metadata": {},
   "outputs": [],
   "source": [
    "Y_t_all = Y_t\n",
    "# Y_t_all"
   ]
  },
  {
   "cell_type": "code",
   "execution_count": null,
   "id": "12fcc620",
   "metadata": {},
   "outputs": [],
   "source": [
    "bakeup_X = X\n",
    "bakeup_y = y"
   ]
  },
  {
   "cell_type": "code",
   "execution_count": null,
   "id": "d396518e",
   "metadata": {},
   "outputs": [],
   "source": [
    "n = len(allStoreIds)\n",
    "store_wise_X = [[] for _ in range(n)]\n",
    "store_wise_y = [[] for _ in range(n)]\n",
    "\n",
    "for j in range(n):\n",
    "    for i in range(len(X)):\n",
    "        if X[i][j] > 0:\n",
    "            store_wise_X[j].append(X[i][n:])\n",
    "            store_wise_y[j].append(y[i])\n",
    "\n",
    "# store_wise_X = [[x for x in X] for j in range(n)]\n",
    "# store_wise_X = [x for j in range(n) for _,y in zip(X,y) if x[j]>0]"
   ]
  },
  {
   "cell_type": "code",
   "execution_count": null,
   "id": "7b90cd17",
   "metadata": {},
   "outputs": [],
   "source": [
    "l = []\n",
    "\n",
    "for i in range(n):\n",
    "    X = store_wise_X[i]\n",
    "    y = store_wise_y[i]\n",
    "    X_train, X_test, y_train, y_test = train_test_split(X, y, test_size = 0.20, random_state = 42)\n",
    "    \n",
    "#     print(\"Random Forest Model\", i, len(y_train), len(y_test))\n",
    "    regressor = RandomForestRegressor()\n",
    "    if(isNormalizationRequired):\n",
    "        scaler = StandardScaler()\n",
    "        scaler.fit(X_train)\n",
    "\n",
    "        X_train = scaler.transform(X_train)\n",
    "        X_test = scaler.transform(X_test)\n",
    "    \n",
    "    regressor.fit(X_train, y_train)\n",
    "    predictions = regressor.predict(X_train)\n",
    "    a = getRMSE(y_train, predictions)\n",
    "#     print(\"RMSE score on train set: \", a)\n",
    "    \n",
    "    predictions = regressor.predict(X_test)\n",
    "    b = getRMSE(y_test, predictions)\n",
    "#     print(\"RMSE score on test set: \", b)\n",
    "    l.append((a, b, len(y_train), len(y_test)))\n",
    "# l"
   ]
  },
  {
   "cell_type": "code",
   "execution_count": null,
   "id": "be3aca44",
   "metadata": {},
   "outputs": [],
   "source": [
    "X_t = [i for i in range(len(allStoreIds))]\n",
    "Y_t = [x[1] for x in l]\n",
    "Y_t, X_t\n",
    "plt.bar(X_t, Y_t)\n",
    "plt.xticks(X_t)\n",
    "plt.xlabel(\"Store Id\")\n",
    "plt.ylabel(\"RMSE value of test set\")\n",
    "plt.title(\"Preparation time prediction\")\n",
    "plt.savefig(f'plots/{city}_{month}_3.png')\n",
    "# plt.show()\n",
    "# Y_t"
   ]
  },
  {
   "cell_type": "code",
   "execution_count": null,
   "id": "1a5a253a",
   "metadata": {},
   "outputs": [],
   "source": [
    "l2 = [(a**2)*b for _,a,_,b in l]\n",
    "l3 = [b for _,_,_,b in l]\n",
    "combine_rmse = (sum(l2)/sum(l3))**(1/2)\n",
    "print(\"restwise rmse:\", combine_rmse)"
   ]
  },
  {
   "cell_type": "code",
   "execution_count": null,
   "id": "1cedd753",
   "metadata": {},
   "outputs": [],
   "source": [
    "y = []\n",
    "for i in X_t:\n",
    "    y.append((Y_t[i], Y_t_all[i]))\n",
    "#     print(i, Y_t[i], Y_t_all[i])\n"
   ]
  },
  {
   "cell_type": "code",
   "execution_count": null,
   "id": "a5a8618a",
   "metadata": {},
   "outputs": [],
   "source": [
    "# plt.plot(X_t, Y_t, label = 'Single Model Prediction')\n",
    "# plt.plot(X_t, Y_t_all, label = 'Restaurent Wise Prediction')\n",
    "\n",
    "plt.plot(X_t, y)\n",
    "plt.legend(['Restaurent Model Prediction', 'Single Wise Prediction'])\n",
    "\n",
    "plt.xticks(X_t, rotation='vertical')\n",
    "plt.xlabel(\"Store Id\")\n",
    "plt.ylabel(\"RMSE value of test set\")\n",
    "plt.title(\"Preparation time prediction\")\n",
    "plt.savefig(f'plots/{city}_{month}_4.png')\n",
    "# plt.show()"
   ]
  }
 ],
 "metadata": {
  "kernelspec": {
   "display_name": "Python 3 (ipykernel)",
   "language": "python",
   "name": "python3"
  },
  "language_info": {
   "codemirror_mode": {
    "name": "ipython",
    "version": 3
   },
   "file_extension": ".py",
   "mimetype": "text/x-python",
   "name": "python",
   "nbconvert_exporter": "python",
   "pygments_lexer": "ipython3",
   "version": "3.10.6"
  }
 },
 "nbformat": 4,
 "nbformat_minor": 5
}
