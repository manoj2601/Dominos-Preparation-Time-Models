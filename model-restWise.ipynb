{
 "cells": [
  {
   "cell_type": "code",
   "execution_count": 191,
   "id": "3488f333",
   "metadata": {
    "ExecuteTime": {
     "end_time": "2023-02-28T07:04:07.211746Z",
     "start_time": "2023-02-28T07:04:07.196591Z"
    }
   },
   "outputs": [],
   "source": [
    "# imports\n",
    "import json\n",
    "import pandas as pd\n",
    "import numpy as np\n",
    "import random\n",
    "from datetime import datetime, timedelta\n",
    "import sklearn\n",
    "import math\n",
    "from sklearn.feature_extraction.text import CountVectorizer\n",
    "from sklearn.feature_extraction.text import TfidfVectorizer\n",
    "from sklearn.linear_model import LogisticRegression\n",
    "from sklearn.model_selection import train_test_split\n",
    "\n",
    "import time\n",
    "import matplotlib.pyplot as plt\n",
    "\n",
    "from sklearn.model_selection import train_test_split\n",
    "from sklearn.preprocessing import StandardScaler\n",
    "from sklearn.neural_network import MLPClassifier\n",
    "from sklearn.metrics import classification_report, confusion_matrix\n",
    "from sklearn.ensemble import RandomForestRegressor \n",
    "from statistics import mean\n",
    "import pickle\n",
    "import statistics\n",
    "\n",
    "from sklearn.model_selection import cross_val_score\n",
    "from sklearn.model_selection import RepeatedKFold\n",
    "from xgboost import XGBRegressor\n",
    "from numpy import absolute"
   ]
  },
  {
   "cell_type": "code",
   "execution_count": 2,
   "id": "03a22cbb",
   "metadata": {
    "ExecuteTime": {
     "end_time": "2023-02-27T14:19:45.972646Z",
     "start_time": "2023-02-27T14:19:45.968105Z"
    }
   },
   "outputs": [],
   "source": [
    "city = 'Bhopal'\n",
    "month = 'July'\n",
    "PATH = f'./../Item_wise_data/{city}/'\n",
    "# PATH = './../'\n"
   ]
  },
  {
   "cell_type": "code",
   "execution_count": 3,
   "id": "500b335e",
   "metadata": {
    "ExecuteTime": {
     "end_time": "2023-02-27T14:19:48.468061Z",
     "start_time": "2023-02-27T14:19:46.133254Z"
    }
   },
   "outputs": [
    {
     "name": "stderr",
     "output_type": "stream",
     "text": [
      "/tmp/ipykernel_14922/70406848.py:2: DtypeWarning: Columns (5,8,12) have mixed types. Specify dtype option on import or set low_memory=False.\n",
      "  df = pd.read_csv(PATH+f'{month}.csv')\n"
     ]
    }
   ],
   "source": [
    "# exclude non baking items\n",
    "df = pd.read_csv(PATH+f'{month}.csv')\n",
    "df = df[pd.notna(df['Oven_Time'])]\n",
    "df = df.sort_values(by =['Kitchen_Display_Time', 'Location_Code', 'Order_Number'])\n",
    "# df"
   ]
  },
  {
   "cell_type": "code",
   "execution_count": 4,
   "id": "ec45c79b",
   "metadata": {
    "ExecuteTime": {
     "end_time": "2023-02-27T14:19:49.421445Z",
     "start_time": "2023-02-27T14:19:49.314172Z"
    }
   },
   "outputs": [
    {
     "name": "stdout",
     "output_type": "stream",
     "text": [
      "(156415, 29)\n",
      "(156415, 9)\n"
     ]
    }
   ],
   "source": [
    "print(df.shape)\n",
    "df = df.drop(['storedesc', 'city', 'Customer_Code', 'Customer_Name', 'Actual_Order_Date', 'Order_Status_Code', 'Order_Type_Code', 'Order_Saved', 'Order_Time', 'Driver_ID', 'Driver_Shift', 'Route_Time', 'Return_Time', 'Delayed_Order', 'Order_Taker_ID','Order_Taker_Shift', 'Closed_Order_Time', 'Customer_Address_Id', 'Original_Location_Code', 'Order_Id',], axis=1)\n",
    "print(df.shape)\n"
   ]
  },
  {
   "cell_type": "code",
   "execution_count": 5,
   "id": "be15fa7d",
   "metadata": {
    "ExecuteTime": {
     "end_time": "2023-02-27T14:19:50.506728Z",
     "start_time": "2023-02-27T14:19:50.287812Z"
    }
   },
   "outputs": [
    {
     "name": "stdout",
     "output_type": "stream",
     "text": [
      "(156415, 10)\n"
     ]
    },
    {
     "data": {
      "text/html": [
       "<div>\n",
       "<style scoped>\n",
       "    .dataframe tbody tr th:only-of-type {\n",
       "        vertical-align: middle;\n",
       "    }\n",
       "\n",
       "    .dataframe tbody tr th {\n",
       "        vertical-align: top;\n",
       "    }\n",
       "\n",
       "    .dataframe thead th {\n",
       "        text-align: right;\n",
       "    }\n",
       "</style>\n",
       "<table border=\"1\" class=\"dataframe\">\n",
       "  <thead>\n",
       "    <tr style=\"text-align: right;\">\n",
       "      <th></th>\n",
       "      <th>Location_Code</th>\n",
       "      <th>Order_Date</th>\n",
       "      <th>Order_Number</th>\n",
       "      <th>Kitchen_Display_Time</th>\n",
       "      <th>Oven_Time</th>\n",
       "      <th>Menu_Code</th>\n",
       "      <th>Item Description</th>\n",
       "      <th>Quantity</th>\n",
       "      <th>Delivery_Time</th>\n",
       "      <th>prep_time</th>\n",
       "    </tr>\n",
       "  </thead>\n",
       "  <tbody>\n",
       "    <tr>\n",
       "      <th>92935</th>\n",
       "      <td>DPI66576</td>\n",
       "      <td>2022-07-01 00:00:00</td>\n",
       "      <td>1</td>\n",
       "      <td>2022-07-01 11:06:45.417</td>\n",
       "      <td>2022-07-01 11:07:26.867</td>\n",
       "      <td>PIZ0200</td>\n",
       "      <td>Corn n Cheese Paratha Pizza</td>\n",
       "      <td>1.0</td>\n",
       "      <td>NaN</td>\n",
       "      <td>461</td>\n",
       "    </tr>\n",
       "    <tr>\n",
       "      <th>158804</th>\n",
       "      <td>DPI66154</td>\n",
       "      <td>2022-07-01 00:00:00</td>\n",
       "      <td>1</td>\n",
       "      <td>2022-07-01 11:06:53.140</td>\n",
       "      <td>2022-07-01 11:09:58.387</td>\n",
       "      <td>PIZ5106</td>\n",
       "      <td>Chicken Sausage</td>\n",
       "      <td>1.0</td>\n",
       "      <td>2022-07-01 11:24:46.000</td>\n",
       "      <td>605</td>\n",
       "    </tr>\n",
       "    <tr>\n",
       "      <th>33904</th>\n",
       "      <td>DPI66576</td>\n",
       "      <td>2022-07-01 00:00:00</td>\n",
       "      <td>2</td>\n",
       "      <td>2022-07-01 11:12:01.983</td>\n",
       "      <td>2022-07-01 11:13:30.210</td>\n",
       "      <td>PIZ0121</td>\n",
       "      <td>VG2-1Mexican Green</td>\n",
       "      <td>1.0</td>\n",
       "      <td>2022-07-01 11:26:48.840</td>\n",
       "      <td>508</td>\n",
       "    </tr>\n",
       "    <tr>\n",
       "      <th>69467</th>\n",
       "      <td>DPI66576</td>\n",
       "      <td>2022-07-01 00:00:00</td>\n",
       "      <td>2</td>\n",
       "      <td>2022-07-01 11:12:01.983</td>\n",
       "      <td>2022-07-01 11:13:30.697</td>\n",
       "      <td>PIZ0120</td>\n",
       "      <td>VG2-1Peppy Paneer</td>\n",
       "      <td>1.0</td>\n",
       "      <td>2022-07-01 11:26:48.840</td>\n",
       "      <td>509</td>\n",
       "    </tr>\n",
       "    <tr>\n",
       "      <th>53156</th>\n",
       "      <td>DPI66449</td>\n",
       "      <td>2022-07-01 00:00:00</td>\n",
       "      <td>2</td>\n",
       "      <td>2022-07-01 11:12:33.490</td>\n",
       "      <td>2022-07-01 11:13:58.503</td>\n",
       "      <td>PIZ0130</td>\n",
       "      <td>_PM39-Pizza Mania Golden Corn</td>\n",
       "      <td>1.0</td>\n",
       "      <td>2022-07-01 11:32:00.000</td>\n",
       "      <td>505</td>\n",
       "    </tr>\n",
       "  </tbody>\n",
       "</table>\n",
       "</div>"
      ],
      "text/plain": [
       "       Location_Code           Order_Date  Order_Number  \\\n",
       "92935       DPI66576  2022-07-01 00:00:00             1   \n",
       "158804      DPI66154  2022-07-01 00:00:00             1   \n",
       "33904       DPI66576  2022-07-01 00:00:00             2   \n",
       "69467       DPI66576  2022-07-01 00:00:00             2   \n",
       "53156       DPI66449  2022-07-01 00:00:00             2   \n",
       "\n",
       "          Kitchen_Display_Time               Oven_Time Menu_Code  \\\n",
       "92935  2022-07-01 11:06:45.417 2022-07-01 11:07:26.867   PIZ0200   \n",
       "158804 2022-07-01 11:06:53.140 2022-07-01 11:09:58.387   PIZ5106   \n",
       "33904  2022-07-01 11:12:01.983 2022-07-01 11:13:30.210   PIZ0121   \n",
       "69467  2022-07-01 11:12:01.983 2022-07-01 11:13:30.697   PIZ0120   \n",
       "53156  2022-07-01 11:12:33.490 2022-07-01 11:13:58.503   PIZ0130   \n",
       "\n",
       "                     Item Description  Quantity            Delivery_Time  \\\n",
       "92935     Corn n Cheese Paratha Pizza       1.0                      NaN   \n",
       "158804                Chicken Sausage       1.0  2022-07-01 11:24:46.000   \n",
       "33904              VG2-1Mexican Green       1.0  2022-07-01 11:26:48.840   \n",
       "69467               VG2-1Peppy Paneer       1.0  2022-07-01 11:26:48.840   \n",
       "53156   _PM39-Pizza Mania Golden Corn       1.0  2022-07-01 11:32:00.000   \n",
       "\n",
       "        prep_time  \n",
       "92935         461  \n",
       "158804        605  \n",
       "33904         508  \n",
       "69467         509  \n",
       "53156         505  "
      ]
     },
     "execution_count": 5,
     "metadata": {},
     "output_type": "execute_result"
    }
   ],
   "source": [
    "df['Kitchen_Display_Time'] = pd.to_datetime(df['Kitchen_Display_Time'])\n",
    "df['Oven_Time'] = pd.to_datetime(df['Oven_Time'])\n",
    "df['prep_time'] = df['Oven_Time'] - df['Kitchen_Display_Time']\n",
    "df['prep_time'] = round(df['prep_time']/np.timedelta64(1, 's')).astype(int) + 7*60\n",
    "print(df.shape)\n",
    "df.head()"
   ]
  },
  {
   "cell_type": "code",
   "execution_count": 8,
   "id": "b36a4fbb",
   "metadata": {
    "ExecuteTime": {
     "end_time": "2023-02-27T14:20:21.139835Z",
     "start_time": "2023-02-27T14:20:21.089889Z"
    }
   },
   "outputs": [
    {
     "name": "stdout",
     "output_type": "stream",
     "text": [
      "(156385, 10)\n"
     ]
    },
    {
     "data": {
      "text/html": [
       "<div>\n",
       "<style scoped>\n",
       "    .dataframe tbody tr th:only-of-type {\n",
       "        vertical-align: middle;\n",
       "    }\n",
       "\n",
       "    .dataframe tbody tr th {\n",
       "        vertical-align: top;\n",
       "    }\n",
       "\n",
       "    .dataframe thead th {\n",
       "        text-align: right;\n",
       "    }\n",
       "</style>\n",
       "<table border=\"1\" class=\"dataframe\">\n",
       "  <thead>\n",
       "    <tr style=\"text-align: right;\">\n",
       "      <th></th>\n",
       "      <th>Location_Code</th>\n",
       "      <th>Order_Date</th>\n",
       "      <th>Order_Number</th>\n",
       "      <th>Kitchen_Display_Time</th>\n",
       "      <th>Oven_Time</th>\n",
       "      <th>Menu_Code</th>\n",
       "      <th>Item Description</th>\n",
       "      <th>Quantity</th>\n",
       "      <th>Delivery_Time</th>\n",
       "      <th>prep_time</th>\n",
       "    </tr>\n",
       "  </thead>\n",
       "  <tbody>\n",
       "    <tr>\n",
       "      <th>92935</th>\n",
       "      <td>DPI66576</td>\n",
       "      <td>2022-07-01 00:00:00</td>\n",
       "      <td>1</td>\n",
       "      <td>2022-07-01 11:06:45.417</td>\n",
       "      <td>2022-07-01 11:07:26.867</td>\n",
       "      <td>PIZ0200</td>\n",
       "      <td>Corn n Cheese Paratha Pizza</td>\n",
       "      <td>1.0</td>\n",
       "      <td>NaN</td>\n",
       "      <td>461</td>\n",
       "    </tr>\n",
       "    <tr>\n",
       "      <th>158804</th>\n",
       "      <td>DPI66154</td>\n",
       "      <td>2022-07-01 00:00:00</td>\n",
       "      <td>1</td>\n",
       "      <td>2022-07-01 11:06:53.140</td>\n",
       "      <td>2022-07-01 11:09:58.387</td>\n",
       "      <td>PIZ5106</td>\n",
       "      <td>Chicken Sausage</td>\n",
       "      <td>1.0</td>\n",
       "      <td>2022-07-01 11:24:46.000</td>\n",
       "      <td>605</td>\n",
       "    </tr>\n",
       "    <tr>\n",
       "      <th>33904</th>\n",
       "      <td>DPI66576</td>\n",
       "      <td>2022-07-01 00:00:00</td>\n",
       "      <td>2</td>\n",
       "      <td>2022-07-01 11:12:01.983</td>\n",
       "      <td>2022-07-01 11:13:30.210</td>\n",
       "      <td>PIZ0121</td>\n",
       "      <td>VG2-1Mexican Green</td>\n",
       "      <td>1.0</td>\n",
       "      <td>2022-07-01 11:26:48.840</td>\n",
       "      <td>508</td>\n",
       "    </tr>\n",
       "    <tr>\n",
       "      <th>69467</th>\n",
       "      <td>DPI66576</td>\n",
       "      <td>2022-07-01 00:00:00</td>\n",
       "      <td>2</td>\n",
       "      <td>2022-07-01 11:12:01.983</td>\n",
       "      <td>2022-07-01 11:13:30.697</td>\n",
       "      <td>PIZ0120</td>\n",
       "      <td>VG2-1Peppy Paneer</td>\n",
       "      <td>1.0</td>\n",
       "      <td>2022-07-01 11:26:48.840</td>\n",
       "      <td>509</td>\n",
       "    </tr>\n",
       "    <tr>\n",
       "      <th>53156</th>\n",
       "      <td>DPI66449</td>\n",
       "      <td>2022-07-01 00:00:00</td>\n",
       "      <td>2</td>\n",
       "      <td>2022-07-01 11:12:33.490</td>\n",
       "      <td>2022-07-01 11:13:58.503</td>\n",
       "      <td>PIZ0130</td>\n",
       "      <td>_PM39-Pizza Mania Golden Corn</td>\n",
       "      <td>1.0</td>\n",
       "      <td>2022-07-01 11:32:00.000</td>\n",
       "      <td>505</td>\n",
       "    </tr>\n",
       "  </tbody>\n",
       "</table>\n",
       "</div>"
      ],
      "text/plain": [
       "       Location_Code           Order_Date  Order_Number  \\\n",
       "92935       DPI66576  2022-07-01 00:00:00             1   \n",
       "158804      DPI66154  2022-07-01 00:00:00             1   \n",
       "33904       DPI66576  2022-07-01 00:00:00             2   \n",
       "69467       DPI66576  2022-07-01 00:00:00             2   \n",
       "53156       DPI66449  2022-07-01 00:00:00             2   \n",
       "\n",
       "          Kitchen_Display_Time               Oven_Time Menu_Code  \\\n",
       "92935  2022-07-01 11:06:45.417 2022-07-01 11:07:26.867   PIZ0200   \n",
       "158804 2022-07-01 11:06:53.140 2022-07-01 11:09:58.387   PIZ5106   \n",
       "33904  2022-07-01 11:12:01.983 2022-07-01 11:13:30.210   PIZ0121   \n",
       "69467  2022-07-01 11:12:01.983 2022-07-01 11:13:30.697   PIZ0120   \n",
       "53156  2022-07-01 11:12:33.490 2022-07-01 11:13:58.503   PIZ0130   \n",
       "\n",
       "                     Item Description  Quantity            Delivery_Time  \\\n",
       "92935     Corn n Cheese Paratha Pizza       1.0                      NaN   \n",
       "158804                Chicken Sausage       1.0  2022-07-01 11:24:46.000   \n",
       "33904              VG2-1Mexican Green       1.0  2022-07-01 11:26:48.840   \n",
       "69467               VG2-1Peppy Paneer       1.0  2022-07-01 11:26:48.840   \n",
       "53156   _PM39-Pizza Mania Golden Corn       1.0  2022-07-01 11:32:00.000   \n",
       "\n",
       "        prep_time  \n",
       "92935         461  \n",
       "158804        605  \n",
       "33904         508  \n",
       "69467         509  \n",
       "53156         505  "
      ]
     },
     "execution_count": 8,
     "metadata": {},
     "output_type": "execute_result"
    }
   ],
   "source": [
    "isThresholdForPreparationTime = True\n",
    "thresholdForPreparationTime = 30 # minutes for preparation time (threshold)\n",
    "if (isThresholdForPreparationTime):\n",
    "    df = df.loc[df['prep_time'] <= thresholdForPreparationTime*60]\n",
    "print(df.shape)\n",
    "df.head()"
   ]
  },
  {
   "cell_type": "code",
   "execution_count": 9,
   "id": "4877e791",
   "metadata": {
    "ExecuteTime": {
     "end_time": "2023-02-27T14:20:23.336000Z",
     "start_time": "2023-02-27T14:20:23.297995Z"
    }
   },
   "outputs": [
    {
     "data": {
      "text/plain": [
       "12"
      ]
     },
     "execution_count": 9,
     "metadata": {},
     "output_type": "execute_result"
    }
   ],
   "source": [
    "allMenuCodes = df['Menu_Code'].unique()\n",
    "allStoreIds = df['Location_Code'].unique()\n",
    "# allMenuCodes, allStoreIds\n",
    "len(allMenuCodes)\n",
    "len(allStoreIds)"
   ]
  },
  {
   "cell_type": "code",
   "execution_count": 10,
   "id": "dd82fb15",
   "metadata": {
    "ExecuteTime": {
     "end_time": "2023-02-27T14:20:24.431368Z",
     "start_time": "2023-02-27T14:20:24.288576Z"
    }
   },
   "outputs": [],
   "source": [
    "restWiseDFs = {}\n",
    "for storeId in allStoreIds:\n",
    "    restWiseDFs[storeId] = df.loc[df['Location_Code'] == storeId]"
   ]
  },
  {
   "cell_type": "code",
   "execution_count": 11,
   "id": "3259a2ba",
   "metadata": {
    "ExecuteTime": {
     "end_time": "2023-02-27T14:20:26.429756Z",
     "start_time": "2023-02-27T14:20:25.936151Z"
    }
   },
   "outputs": [],
   "source": [
    "sampleItem=None\n",
    "for index, item in df.iterrows():\n",
    "    sampleItem = item\n",
    "    break"
   ]
  },
  {
   "cell_type": "code",
   "execution_count": 12,
   "id": "4ed902e2",
   "metadata": {
    "ExecuteTime": {
     "end_time": "2023-02-27T14:20:26.660339Z",
     "start_time": "2023-02-27T14:20:26.650068Z"
    }
   },
   "outputs": [],
   "source": [
    "# Feature 1: store id\n",
    "def getOneHotEncodingStore(storeId, stores=allStoreIds):\n",
    "    oneHotEncodingList = []\n",
    "    for i in range(0, len(stores)):\n",
    "        if(stores[i] == storeId):\n",
    "            oneHotEncodingList.append(1)\n",
    "        else:\n",
    "            oneHotEncodingList.append(0)\n",
    "    return oneHotEncodingList\n",
    "\n",
    "# returns the feature store id for an order\n",
    "def getStoreId(item, isOneHotEncodingRequired=False):\n",
    "    if isOneHotEncodingRequired:\n",
    "        return getOneHotEncodingStore(item['Location_Code'], allStoreIds)\n",
    "    else:\n",
    "        return [item['Location_Code']]"
   ]
  },
  {
   "cell_type": "code",
   "execution_count": 13,
   "id": "517c95d9",
   "metadata": {
    "ExecuteTime": {
     "end_time": "2023-02-27T14:20:27.311459Z",
     "start_time": "2023-02-27T14:20:27.303465Z"
    }
   },
   "outputs": [
    {
     "name": "stdout",
     "output_type": "stream",
     "text": [
      "['DPI66576']\n",
      "[1, 0, 0, 0, 0, 0, 0, 0, 0, 0, 0, 0]\n"
     ]
    }
   ],
   "source": [
    "print(getStoreId(sampleItem))\n",
    "print(getStoreId(sampleItem, True))"
   ]
  },
  {
   "cell_type": "code",
   "execution_count": 14,
   "id": "73180e66",
   "metadata": {
    "ExecuteTime": {
     "end_time": "2023-02-27T14:20:27.999491Z",
     "start_time": "2023-02-27T14:20:27.988735Z"
    }
   },
   "outputs": [],
   "source": [
    "# Feature 2: Item Type\n",
    "def getOneHotEncodedItemList(item, items=allMenuCodes, clubCategoryWise=False):\n",
    "    if clubCategoryWise:\n",
    "        newItemsList = []\n",
    "        newItemsList = [i[0:3] for i in items]\n",
    "        unique_items = list(dict.fromkeys(newItemsList))\n",
    "        return getOneHotEncodedItemList(item[0:3], unique_items, False)\n",
    "    \n",
    "    oneHotEncodingList=[]\n",
    "    for i in range(0, len(items)):\n",
    "        if (items[i] == item):\n",
    "            oneHotEncodingList.append(1)\n",
    "        else:\n",
    "            oneHotEncodingList.append(0)\n",
    "    return oneHotEncodingList\n",
    "\n",
    "def getItemType(item, clubCategoryWise=False):\n",
    "    return getOneHotEncodedItemList(item['Menu_Code'], allMenuCodes, clubCategoryWise)"
   ]
  },
  {
   "cell_type": "code",
   "execution_count": 15,
   "id": "042b3f08",
   "metadata": {
    "ExecuteTime": {
     "end_time": "2023-02-27T14:20:28.558519Z",
     "start_time": "2023-02-27T14:20:28.549192Z"
    }
   },
   "outputs": [
    {
     "name": "stdout",
     "output_type": "stream",
     "text": [
      "[1, 0, 0, 0, 0, 0, 0, 0, 0, 0, 0, 0, 0, 0, 0, 0, 0, 0, 0, 0, 0, 0, 0, 0, 0, 0, 0, 0, 0, 0, 0, 0, 0, 0, 0, 0, 0, 0, 0, 0, 0, 0, 0, 0, 0, 0, 0, 0, 0, 0, 0, 0, 0, 0, 0, 0, 0, 0, 0, 0, 0, 0, 0, 0, 0, 0, 0, 0, 0, 0, 0, 0, 0, 0, 0, 0, 0, 0, 0, 0, 0, 0, 0, 0, 0, 0, 0, 0, 0, 0, 0, 0, 0, 0, 0, 0, 0, 0, 0, 0, 0, 0, 0, 0, 0, 0, 0, 0, 0, 0, 0, 0, 0, 0, 0, 0, 0, 0, 0, 0, 0, 0, 0, 0, 0, 0, 0, 0, 0, 0, 0, 0, 0, 0, 0, 0, 0, 0, 0, 0, 0, 0, 0, 0, 0, 0]\n",
      "[1, 0, 0, 0, 0, 0, 0]\n",
      "[1, 0, 0, 0, 0, 0, 0]\n",
      "[1, 0, 0, 0, 0, 0, 0]\n"
     ]
    }
   ],
   "source": [
    "print(getItemType(sampleItem))\n",
    "print(getItemType(sampleItem, True))\n",
    "print(getItemType(sampleItem, clubCategoryWise=True))\n",
    "print(getItemType(sampleItem, True))"
   ]
  },
  {
   "cell_type": "code",
   "execution_count": 16,
   "id": "d7728718",
   "metadata": {
    "ExecuteTime": {
     "end_time": "2023-02-27T14:20:29.119417Z",
     "start_time": "2023-02-27T14:20:29.107959Z"
    }
   },
   "outputs": [],
   "source": [
    "# Feature 3: TimeSlot of kitchen display time\n",
    "total_slots = 24\n",
    "def getTimeslot(dt, slots=total_slots):\n",
    "\tcurrent = datetime(2011, 1, 1)\n",
    "\tt1 = current.time()\n",
    "\tt2 = dt.time()\n",
    "\tfor i in range(0, slots):\n",
    "\t\tcurrent = current + timedelta(minutes = 60*24/slots)\n",
    "\t\tif(current.time() > t2):\n",
    "\t\t\treturn i\n",
    "\treturn slots-1\n",
    "\n",
    "def getOneHotEncodingTimeSlot(timeslot):\n",
    "    oneHotEncodingList = []\n",
    "    for i in range(0, 24):\n",
    "        oneHotEncodingList.append(0)\n",
    "    oneHotEncodingList[timeslot] = 1\n",
    "    return oneHotEncodingList\n",
    "\n",
    "def getTimeSlotOfKitchenDisplayTime(item):\n",
    "    timeslot = getTimeslot(item['Kitchen_Display_Time'], 24)\n",
    "    return getOneHotEncodingTimeSlot(timeslot)"
   ]
  },
  {
   "cell_type": "code",
   "execution_count": 17,
   "id": "cfe35ab1",
   "metadata": {
    "ExecuteTime": {
     "end_time": "2023-02-27T14:20:29.588378Z",
     "start_time": "2023-02-27T14:20:29.582537Z"
    }
   },
   "outputs": [],
   "source": [
    "def get_preparation_time(item):\n",
    "    return item['prep_time']\n",
    "# \tdiff = item['Oven_Time'] - item['Kitchen_Display_Time']\n",
    "# \treturn diff.total_seconds() + 7*60"
   ]
  },
  {
   "cell_type": "code",
   "execution_count": 18,
   "id": "98906d7e",
   "metadata": {
    "ExecuteTime": {
     "end_time": "2023-02-27T14:20:30.066451Z",
     "start_time": "2023-02-27T14:20:30.056026Z"
    }
   },
   "outputs": [],
   "source": [
    "# Feature 4 : Count of all baking items of all orders received by the store in the last 20 minutes.\n",
    "\n",
    "def countPastOrders(item, slotTime=30):\n",
    "    storeId = item['Location_Code']\n",
    "    df = restWiseDFs[storeId]\n",
    "    dtKitchenDisplay = item['Kitchen_Display_Time']\n",
    "    lastTime = dtKitchenDisplay - timedelta(minutes=slotTime)\n",
    "    return len(df.loc[(df['Kitchen_Display_Time'] >= lastTime) & \\\n",
    "          (df['Kitchen_Display_Time'] <= dtKitchenDisplay)].index)"
   ]
  },
  {
   "cell_type": "code",
   "execution_count": 19,
   "id": "ab3c2888",
   "metadata": {
    "ExecuteTime": {
     "end_time": "2023-02-27T14:20:30.500440Z",
     "start_time": "2023-02-27T14:20:30.492965Z"
    }
   },
   "outputs": [],
   "source": [
    "d = datetime.strptime('2021-12-20 00:00:00', '%Y-%m-%d %H:%M:%S')\n"
   ]
  },
  {
   "cell_type": "code",
   "execution_count": 20,
   "id": "13d55221",
   "metadata": {
    "ExecuteTime": {
     "end_time": "2023-02-27T14:24:44.150630Z",
     "start_time": "2023-02-27T14:20:30.982436Z"
    },
    "collapsed": true
   },
   "outputs": [
    {
     "name": "stderr",
     "output_type": "stream",
     "text": [
      "/tmp/ipykernel_14922/2333041051.py:6: SettingWithCopyWarning: \n",
      "A value is trying to be set on a copy of a slice from a DataFrame.\n",
      "Try using .loc[row_indexer,col_indexer] = value instead\n",
      "\n",
      "See the caveats in the documentation: https://pandas.pydata.org/pandas-docs/stable/user_guide/indexing.html#returning-a-view-versus-a-copy\n",
      "  restWiseDFs[storeId]['avg_kpt_in_last_one_hour'] = 0 # to create a new column with initial values 0\n",
      "/tmp/ipykernel_14922/2333041051.py:6: SettingWithCopyWarning: \n",
      "A value is trying to be set on a copy of a slice from a DataFrame.\n",
      "Try using .loc[row_indexer,col_indexer] = value instead\n",
      "\n",
      "See the caveats in the documentation: https://pandas.pydata.org/pandas-docs/stable/user_guide/indexing.html#returning-a-view-versus-a-copy\n",
      "  restWiseDFs[storeId]['avg_kpt_in_last_one_hour'] = 0 # to create a new column with initial values 0\n",
      "/tmp/ipykernel_14922/2333041051.py:6: SettingWithCopyWarning: \n",
      "A value is trying to be set on a copy of a slice from a DataFrame.\n",
      "Try using .loc[row_indexer,col_indexer] = value instead\n",
      "\n",
      "See the caveats in the documentation: https://pandas.pydata.org/pandas-docs/stable/user_guide/indexing.html#returning-a-view-versus-a-copy\n",
      "  restWiseDFs[storeId]['avg_kpt_in_last_one_hour'] = 0 # to create a new column with initial values 0\n",
      "/tmp/ipykernel_14922/2333041051.py:6: SettingWithCopyWarning: \n",
      "A value is trying to be set on a copy of a slice from a DataFrame.\n",
      "Try using .loc[row_indexer,col_indexer] = value instead\n",
      "\n",
      "See the caveats in the documentation: https://pandas.pydata.org/pandas-docs/stable/user_guide/indexing.html#returning-a-view-versus-a-copy\n",
      "  restWiseDFs[storeId]['avg_kpt_in_last_one_hour'] = 0 # to create a new column with initial values 0\n",
      "/tmp/ipykernel_14922/2333041051.py:6: SettingWithCopyWarning: \n",
      "A value is trying to be set on a copy of a slice from a DataFrame.\n",
      "Try using .loc[row_indexer,col_indexer] = value instead\n",
      "\n",
      "See the caveats in the documentation: https://pandas.pydata.org/pandas-docs/stable/user_guide/indexing.html#returning-a-view-versus-a-copy\n",
      "  restWiseDFs[storeId]['avg_kpt_in_last_one_hour'] = 0 # to create a new column with initial values 0\n",
      "/tmp/ipykernel_14922/2333041051.py:6: SettingWithCopyWarning: \n",
      "A value is trying to be set on a copy of a slice from a DataFrame.\n",
      "Try using .loc[row_indexer,col_indexer] = value instead\n",
      "\n",
      "See the caveats in the documentation: https://pandas.pydata.org/pandas-docs/stable/user_guide/indexing.html#returning-a-view-versus-a-copy\n",
      "  restWiseDFs[storeId]['avg_kpt_in_last_one_hour'] = 0 # to create a new column with initial values 0\n",
      "/tmp/ipykernel_14922/2333041051.py:6: SettingWithCopyWarning: \n",
      "A value is trying to be set on a copy of a slice from a DataFrame.\n",
      "Try using .loc[row_indexer,col_indexer] = value instead\n",
      "\n",
      "See the caveats in the documentation: https://pandas.pydata.org/pandas-docs/stable/user_guide/indexing.html#returning-a-view-versus-a-copy\n",
      "  restWiseDFs[storeId]['avg_kpt_in_last_one_hour'] = 0 # to create a new column with initial values 0\n",
      "/tmp/ipykernel_14922/2333041051.py:6: SettingWithCopyWarning: \n",
      "A value is trying to be set on a copy of a slice from a DataFrame.\n",
      "Try using .loc[row_indexer,col_indexer] = value instead\n",
      "\n",
      "See the caveats in the documentation: https://pandas.pydata.org/pandas-docs/stable/user_guide/indexing.html#returning-a-view-versus-a-copy\n",
      "  restWiseDFs[storeId]['avg_kpt_in_last_one_hour'] = 0 # to create a new column with initial values 0\n",
      "/tmp/ipykernel_14922/2333041051.py:6: SettingWithCopyWarning: \n",
      "A value is trying to be set on a copy of a slice from a DataFrame.\n",
      "Try using .loc[row_indexer,col_indexer] = value instead\n",
      "\n",
      "See the caveats in the documentation: https://pandas.pydata.org/pandas-docs/stable/user_guide/indexing.html#returning-a-view-versus-a-copy\n",
      "  restWiseDFs[storeId]['avg_kpt_in_last_one_hour'] = 0 # to create a new column with initial values 0\n",
      "/tmp/ipykernel_14922/2333041051.py:6: SettingWithCopyWarning: \n",
      "A value is trying to be set on a copy of a slice from a DataFrame.\n",
      "Try using .loc[row_indexer,col_indexer] = value instead\n",
      "\n",
      "See the caveats in the documentation: https://pandas.pydata.org/pandas-docs/stable/user_guide/indexing.html#returning-a-view-versus-a-copy\n",
      "  restWiseDFs[storeId]['avg_kpt_in_last_one_hour'] = 0 # to create a new column with initial values 0\n",
      "/tmp/ipykernel_14922/2333041051.py:6: SettingWithCopyWarning: \n",
      "A value is trying to be set on a copy of a slice from a DataFrame.\n",
      "Try using .loc[row_indexer,col_indexer] = value instead\n",
      "\n",
      "See the caveats in the documentation: https://pandas.pydata.org/pandas-docs/stable/user_guide/indexing.html#returning-a-view-versus-a-copy\n",
      "  restWiseDFs[storeId]['avg_kpt_in_last_one_hour'] = 0 # to create a new column with initial values 0\n",
      "/tmp/ipykernel_14922/2333041051.py:6: SettingWithCopyWarning: \n",
      "A value is trying to be set on a copy of a slice from a DataFrame.\n",
      "Try using .loc[row_indexer,col_indexer] = value instead\n",
      "\n",
      "See the caveats in the documentation: https://pandas.pydata.org/pandas-docs/stable/user_guide/indexing.html#returning-a-view-versus-a-copy\n",
      "  restWiseDFs[storeId]['avg_kpt_in_last_one_hour'] = 0 # to create a new column with initial values 0\n"
     ]
    }
   ],
   "source": [
    "# TIME CONSUMING (4 m 14 seconds for Bhopal)\n",
    "# Feature 5 : Avg prep time of the same item in the same store in last 60 minutes.\n",
    "\n",
    "for storeId in restWiseDFs:\n",
    "    avgPrepTime = restWiseDFs[storeId]['prep_time'].mean()    \n",
    "    restWiseDFs[storeId]['avg_kpt_in_last_one_hour'] = 0 # to create a new column with initial values 0\n",
    "    \n",
    "    for index, item in restWiseDFs[storeId].iterrows():\n",
    "        itemCode = item['Menu_Code']\n",
    "        dtKitchenDisplay = item['Kitchen_Display_Time']\n",
    "        \n",
    "        lastTime = dtKitchenDisplay - timedelta(minutes=60)\n",
    "        \n",
    "        df2 = restWiseDFs[storeId].loc[(restWiseDFs[storeId]['Kitchen_Display_Time'] >= lastTime) & \\\n",
    "                     (restWiseDFs[storeId]['Kitchen_Display_Time'] < dtKitchenDisplay) & \\\n",
    "                                 (restWiseDFs[storeId]['Menu_Code'] == itemCode)]\n",
    "        if (len(df2.index) != 0):\n",
    "            restWiseDFs[storeId].at[index, 'avg_kpt_in_last_one_hour'] = df2['prep_time'].mean()\n",
    "        else:\n",
    "            restWiseDFs[storeId].at[index, 'avg_kpt_in_last_one_hour'] =  avgPrepTime\n",
    "\n"
   ]
  },
  {
   "cell_type": "code",
   "execution_count": 21,
   "id": "54158b53",
   "metadata": {
    "ExecuteTime": {
     "end_time": "2023-02-27T14:24:44.162436Z",
     "start_time": "2023-02-27T14:24:44.155004Z"
    }
   },
   "outputs": [],
   "source": [
    "def getPreviousPrepTime(item, timeslot = 60):\n",
    "    if(timeslot == 60):\n",
    "        return item['avg_kpt_in_last_one_hour']\n",
    "    else:\n",
    "        itemCode = item['Menu_Code']\n",
    "        df = restWiseDFs[item['Location_Code']]\n",
    "        \n",
    "        dtKitchenDisplay = item['Kitchen_Display_Time']\n",
    "        \n",
    "        lastTime = dtKitchenDisplay - timedelta(minutes=timeslot)\n",
    "        \n",
    "        df2 = df.loc[(df['Kitchen_Display_Time'] >= lastTime) & \\\n",
    "                     (df['Kitchen_Display_Time'] < dtKitchenDisplay) & \\\n",
    "                                 (df['Menu_Code'] == itemCode)]\n",
    "        if (len(df2.index) != 0):\n",
    "            return df2['prep_time'].mean()\n",
    "        else:\n",
    "            return restWiseDFs[storeId]['prep_time'].mean()    "
   ]
  },
  {
   "cell_type": "code",
   "execution_count": 22,
   "id": "a6c90edd",
   "metadata": {
    "ExecuteTime": {
     "end_time": "2023-02-27T14:24:47.546346Z",
     "start_time": "2023-02-27T14:24:44.164459Z"
    }
   },
   "outputs": [],
   "source": [
    "# Feature 6 : Length of the queue in the store at that time\n",
    "def lengthQueue(item):\n",
    "    dtKitchenDisplay = item['Kitchen_Display_Time']\n",
    "    d = restWiseDFs[item['Location_Code']]\n",
    "    return len(d[(d['Oven_Time'] >= dtKitchenDisplay) & (d['Kitchen_Display_Time'] <= dtKitchenDisplay)]['Order_Number'].index)"
   ]
  },
  {
   "cell_type": "code",
   "execution_count": 23,
   "id": "7d7f459b",
   "metadata": {
    "ExecuteTime": {
     "end_time": "2023-02-27T14:24:47.743687Z",
     "start_time": "2023-02-27T14:24:47.555934Z"
    }
   },
   "outputs": [],
   "source": [
    "sampleItem=None\n",
    "for index, item in restWiseDFs[storeId].iterrows():\n",
    "    sampleItem = item\n",
    "    break"
   ]
  },
  {
   "cell_type": "code",
   "execution_count": 24,
   "id": "e34eb51d",
   "metadata": {
    "ExecuteTime": {
     "end_time": "2023-02-27T14:24:48.088332Z",
     "start_time": "2023-02-27T14:24:47.746074Z"
    }
   },
   "outputs": [
    {
     "data": {
      "text/plain": [
       "2"
      ]
     },
     "execution_count": 24,
     "metadata": {},
     "output_type": "execute_result"
    }
   ],
   "source": [
    "lengthQueue(sampleItem)"
   ]
  },
  {
   "cell_type": "code",
   "execution_count": 25,
   "id": "7b85e23b",
   "metadata": {
    "ExecuteTime": {
     "end_time": "2023-02-27T14:24:48.100851Z",
     "start_time": "2023-02-27T14:24:48.094850Z"
    }
   },
   "outputs": [],
   "source": [
    "# global variables\n",
    "\n",
    "clubItemsCategoryWise = False\n",
    "\n",
    "splitMethod = 'random'\n",
    "slotTimeForPastOrders = 20 # minutes\n",
    "\n",
    "model = 'RF'\n",
    "isOneHotEncodingRequired = True\n",
    "isNormalizationRequired = True"
   ]
  },
  {
   "cell_type": "code",
   "execution_count": 26,
   "id": "636ecf24",
   "metadata": {
    "ExecuteTime": {
     "end_time": "2023-02-27T14:24:48.174223Z",
     "start_time": "2023-02-27T14:24:48.103602Z"
    }
   },
   "outputs": [],
   "source": [
    "def save_object(obj, filename):\n",
    "    with open(filename, 'wb') as outp:  # Overwrites any existing file.\n",
    "        pickle.dump(obj, outp, pickle.HIGHEST_PROTOCOL)"
   ]
  },
  {
   "cell_type": "code",
   "execution_count": 27,
   "id": "d513b5e3",
   "metadata": {
    "ExecuteTime": {
     "end_time": "2023-02-27T14:24:48.316916Z",
     "start_time": "2023-02-27T14:24:48.180214Z"
    }
   },
   "outputs": [],
   "source": [
    "save_object(restWiseDFs, f'restWiseDFsBeforeFeatureCreation{city}.pkl')"
   ]
  },
  {
   "cell_type": "code",
   "execution_count": null,
   "id": "ecd2d076",
   "metadata": {
    "ExecuteTime": {
     "start_time": "2023-02-27T20:29:51.643Z"
    }
   },
   "outputs": [],
   "source": [
    "totalFeatures = (len(allMenuCodes) +  # one hot encoded item type\n",
    "                24 +  #one hot encoded timeslot of the day\n",
    "                1 +  #count past orders\n",
    "                1 + # average previous preparation time in last 1 hour\n",
    "                1+1) # length of the current queue\n",
    "feature_cols = []\n",
    "for i in range(0, totalFeatures):\n",
    "    feature_cols.append('feature_'+str(i+1))"
   ]
  },
  {
   "cell_type": "code",
   "execution_count": null,
   "id": "4c8691b9",
   "metadata": {
    "ExecuteTime": {
     "start_time": "2023-02-27T20:29:52.058Z"
    }
   },
   "outputs": [],
   "source": [
    "def isHeavyLoadDay(dt):\n",
    "    if(dt.weekday() >= 5):\n",
    "        return 1\n",
    "    return 0"
   ]
  },
  {
   "cell_type": "code",
   "execution_count": 101,
   "id": "d558b02e",
   "metadata": {
    "ExecuteTime": {
     "end_time": "2023-02-27T20:29:55.510608Z",
     "start_time": "2023-02-27T20:29:55.495133Z"
    }
   },
   "outputs": [],
   "source": [
    "def updateFeatures(storeId, Xnp):\n",
    "    restWiseDFs[storeId][feature_cols] = Xnp"
   ]
  },
  {
   "cell_type": "code",
   "execution_count": 102,
   "id": "e135b945",
   "metadata": {
    "ExecuteTime": {
     "end_time": "2023-02-27T20:33:19.492708Z",
     "start_time": "2023-02-27T20:29:55.516344Z"
    },
    "scrolled": true
   },
   "outputs": [],
   "source": [
    "# TIME CONSUMING (3m 21s for Bhopal)\n",
    "for storeId in restWiseDFs:\n",
    "    X = []\n",
    "    df = restWiseDFs[storeId]\n",
    "    for index, item in df.iterrows():\n",
    "        features = getItemType(item)\n",
    "        features +=  getTimeSlotOfKitchenDisplayTime(item)\n",
    "        features += [countPastOrders(item, slotTimeForPastOrders)]\n",
    "        features += [getPreviousPrepTime(item, timeslot = 60)]\n",
    "        features += [lengthQueue(item), isHeavyLoadDay(item['Kitchen_Display_Time'])]\n",
    "        X.append(features)\n",
    "    \n",
    "    Xnp = np.array(X)\n",
    "    updateFeatures(storeId, Xnp)"
   ]
  },
  {
   "cell_type": "code",
   "execution_count": 177,
   "id": "89900747",
   "metadata": {
    "ExecuteTime": {
     "end_time": "2023-02-28T06:07:02.236353Z",
     "start_time": "2023-02-28T06:07:02.222915Z"
    }
   },
   "outputs": [
    {
     "data": {
      "text/plain": [
       "174"
      ]
     },
     "execution_count": 177,
     "metadata": {},
     "output_type": "execute_result"
    }
   ],
   "source": [
    "totalFeatures"
   ]
  },
  {
   "cell_type": "code",
   "execution_count": 103,
   "id": "ef377b61",
   "metadata": {
    "ExecuteTime": {
     "end_time": "2023-02-27T20:33:20.517468Z",
     "start_time": "2023-02-27T20:33:19.500882Z"
    }
   },
   "outputs": [],
   "source": [
    "restWiseScalers = {}\n",
    "\n",
    "# normalize feature values\n",
    "for storeId in allStoreIds:\n",
    "    X = restWiseDFs[storeId].loc[:, feature_cols]\n",
    "    scaler = StandardScaler()\n",
    "    if(isNormalizationRequired):\n",
    "        scaler.fit(X)\n",
    "        X_scaled = scaler.transform(X)\n",
    "        X_scalednp = np.array(X_scaled)\n",
    "        updateFeatures(storeId, X_scalednp)"
   ]
  },
  {
   "cell_type": "code",
   "execution_count": 104,
   "id": "0ac081b2",
   "metadata": {
    "ExecuteTime": {
     "end_time": "2023-02-27T20:33:21.586375Z",
     "start_time": "2023-02-27T20:33:20.519694Z"
    }
   },
   "outputs": [],
   "source": [
    "save_object(restWiseDFs, f'restWiseDFsWithNormalizedFeatures{city}.pkl')"
   ]
  },
  {
   "cell_type": "code",
   "execution_count": 105,
   "id": "4d647b20",
   "metadata": {
    "ExecuteTime": {
     "end_time": "2023-02-27T20:33:21.595411Z",
     "start_time": "2023-02-27T20:33:21.590057Z"
    }
   },
   "outputs": [],
   "source": [
    "def getRMSE(actual, predictions):\n",
    "    mse = sklearn.metrics.mean_squared_error(actual, predictions)\n",
    "    return math.sqrt(mse)"
   ]
  },
  {
   "cell_type": "code",
   "execution_count": 106,
   "id": "335de2ba",
   "metadata": {
    "ExecuteTime": {
     "end_time": "2023-02-27T20:34:12.258460Z",
     "start_time": "2023-02-27T20:33:21.600323Z"
    }
   },
   "outputs": [
    {
     "name": "stdout",
     "output_type": "stream",
     "text": [
      "RMSE score overall for store (30 days) DPI66576 :   65.15729502035599\n",
      "RMSE score overall for store (30 days) DPI66154 :   65.30789304887728\n",
      "RMSE score overall for store (30 days) DPI66449 :   89.33332714923527\n",
      "RMSE score overall for store (30 days) DPI66313 :   29.780998189319234\n",
      "RMSE score overall for store (30 days) DPI63827 :   63.79269188729977\n",
      "RMSE score overall for store (30 days) DPI66653 :   81.70251422550501\n",
      "RMSE score overall for store (30 days) DPI66221 :   77.70770919786365\n",
      "RMSE score overall for store (30 days) DPI64196 :   50.30952209948981\n",
      "RMSE score overall for store (30 days) DPI67072 :   104.91848702788876\n",
      "RMSE score overall for store (30 days) DPI66373 :   65.21302722770896\n",
      "RMSE score overall for store (30 days) DPI66153 :   63.66649538161317\n",
      "RMSE score overall for store (30 days) DPI63919 :   89.33470660030562\n"
     ]
    }
   ],
   "source": [
    "# Time Consuming (training on first 14 days of July)\n",
    "restWiseModels = {}\n",
    "\n",
    "for storeId in allStoreIds:\n",
    "    firstTime = datetime(2022, 7, 1)\n",
    "    lastTime = datetime(2022, 7, 14)\n",
    "    trainingData = restWiseDFs[storeId].loc[(restWiseDFs[storeId]['Kitchen_Display_Time'] >= firstTime) & \\\n",
    "          (restWiseDFs[storeId]['Kitchen_Display_Time'] <= lastTime)]\n",
    "    \n",
    "    X_train = trainingData.loc[:, feature_cols]\n",
    "    y_train = trainingData.prep_time.values.tolist()\n",
    "    \n",
    "    regressor = RandomForestRegressor()\n",
    "    regressor.fit(X_train, y_train)\n",
    "    restWiseModels[storeId] = regressor\n",
    "    \n",
    "    \n",
    "    X = restWiseDFs[storeId].loc[:, feature_cols]\n",
    "    y = restWiseDFs[storeId].prep_time.values.tolist()\n",
    "    predictions = regressor.predict(X)\n",
    "    restWiseDFs[storeId]['predicted_prep_time'] = predictions\n",
    "    \n",
    "    a = getRMSE(y, predictions)\n",
    "    print(\"RMSE score overall for store (30 days) \"+storeId+\" :  \", a)"
   ]
  },
  {
   "cell_type": "code",
   "execution_count": 107,
   "id": "c8011b50",
   "metadata": {
    "ExecuteTime": {
     "end_time": "2023-02-27T20:34:13.417671Z",
     "start_time": "2023-02-27T20:34:12.261781Z"
    }
   },
   "outputs": [],
   "source": [
    "save_object(restWiseDFs, f'restWiseDFsWithPredictions{city}.pkl')"
   ]
  },
  {
   "cell_type": "code",
   "execution_count": 108,
   "id": "c39c659c",
   "metadata": {
    "ExecuteTime": {
     "end_time": "2023-02-27T20:34:16.935939Z",
     "start_time": "2023-02-27T20:34:13.421735Z"
    }
   },
   "outputs": [],
   "source": [
    "save_object(restWiseModels, f'restWiseModels{city}.pkl')"
   ]
  },
  {
   "cell_type": "code",
   "execution_count": 122,
   "id": "7b8d7565",
   "metadata": {
    "ExecuteTime": {
     "end_time": "2023-02-27T20:55:45.376602Z",
     "start_time": "2023-02-27T20:55:45.356864Z"
    }
   },
   "outputs": [],
   "source": [
    "def getPredictionHyperparameters(startDay, endDay): # both are included\n",
    "    df = pd.DataFrame()\n",
    "    firstTime = datetime(2022, 7, startDay)\n",
    "    lastTime = datetime(2022, 7, endDay) + timedelta(days=1)\n",
    "    for storeId in allStoreIds:\n",
    "        df2 = restWiseDFs[storeId].loc[(restWiseDFs[storeId]['Kitchen_Display_Time'] >= firstTime) & \\\n",
    "          (restWiseDFs[storeId]['Kitchen_Display_Time'] < lastTime)]\n",
    "        df = pd.concat([df, df2], ignore_index = True)\n",
    "    \n",
    "    rmse = ((df.prep_time - df.predicted_prep_time) ** 2).mean() ** .5\n",
    "    \n",
    "    absError = (abs(df.prep_time - df.predicted_prep_time)).values.tolist()\n",
    "    meanAbsError = statistics.mean(absError)\n",
    "    medianAbsError = statistics.median(absError)\n",
    "    stdAbsError = statistics.stdev(absError)\n",
    "    \n",
    "    error = (df.prep_time - df.predicted_prep_time).values.tolist()\n",
    "    meanError = statistics.mean(error)\n",
    "    medianError = statistics.median(error)\n",
    "    stdError = statistics.stdev(error)\n",
    "    \n",
    "    accuracy = ((df.prep_time - abs(df.prep_time - df.predicted_prep_time))/df.prep_time).values.tolist()\n",
    "    meanAccuracy = statistics.mean(accuracy)\n",
    "    medianAccuracy = statistics.median(accuracy)\n",
    "    stdAccuracy = statistics.stdev(accuracy)\n",
    "    return rmse, (meanAbsError, medianAbsError, stdAbsError), (meanError, medianError, stdError), (meanAccuracy, medianAccuracy, stdAccuracy)"
   ]
  },
  {
   "cell_type": "code",
   "execution_count": 80,
   "id": "6958c9f8",
   "metadata": {
    "ExecuteTime": {
     "end_time": "2023-02-27T19:32:44.259131Z",
     "start_time": "2023-02-27T19:32:44.245450Z"
    }
   },
   "outputs": [],
   "source": [
    "# def getBaselineHyperparamters(startDay, endDay):\n",
    "#     df = pd.DataFrame()\n",
    "#     firstTime = datetime(2022, 7, startDay)\n",
    "#     lastTime = datetime(2022, 7, endDay) + timedelta(days=1)\n",
    "#     for storeId in allStoreIds:\n",
    "#         df2 = restWiseDFs[storeId].loc[(restWiseDFs[storeId]['Kitchen_Display_Time'] >= firstTime) & \\\n",
    "#           (restWiseDFs[storeId]['Kitchen_Display_Time'] < lastTime)]\n",
    "#         df = pd.concat([df, df2], ignore_index = True)\n",
    "    \n",
    "#     rmse = ((df.prep_time - df['prep_time'].mean()) ** 2).mean() ** .5\n",
    "    \n",
    "#     error = (abs(df.prep_time - df['prep_time'].mean())).values.tolist()\n",
    "#     absError = (abs(df.prep_time - df.predicted_prep_time)).values.tolist()\n",
    "#     meanAbsError = statistics.mean(error)\n",
    "#     medianAbsError = statistics.median(error)\n",
    "#     stdAbsError = statistics.stdev(error)\n",
    "    \n",
    "#     error = (abs(df.prep_time - df.predicted_prep_time)).values.tolist()\n",
    "#     meanError = statistics.mean(error)\n",
    "#     medianError = statistics.median(error)\n",
    "#     stdError = statistics.stdev(error)\n",
    "#     return rmse, meanAbsError, medianAbsError, stdAbsError, meanError, medianError, stdError"
   ]
  },
  {
   "cell_type": "code",
   "execution_count": 74,
   "id": "45f9dd4d",
   "metadata": {
    "ExecuteTime": {
     "end_time": "2023-02-27T19:29:47.329009Z",
     "start_time": "2023-02-27T19:29:47.320918Z"
    }
   },
   "outputs": [
    {
     "name": "stdout",
     "output_type": "stream",
     "text": [
      "HELLO\n"
     ]
    }
   ],
   "source": [
    "print(\"HELLO\")"
   ]
  },
  {
   "cell_type": "code",
   "execution_count": 81,
   "id": "281a6487",
   "metadata": {
    "ExecuteTime": {
     "end_time": "2023-02-27T19:32:49.868191Z",
     "start_time": "2023-02-27T19:32:49.143149Z"
    }
   },
   "outputs": [
    {
     "data": {
      "text/plain": [
       "(32.85109404636338, 17.588030358897278, 9.228583333333233, 27.746475542811286)"
      ]
     },
     "execution_count": 81,
     "metadata": {},
     "output_type": "execute_result"
    }
   ],
   "source": [
    "getPredictionHyperparameters(1, 14)"
   ]
  },
  {
   "cell_type": "code",
   "execution_count": 82,
   "id": "c3c351e0",
   "metadata": {
    "ExecuteTime": {
     "end_time": "2023-02-27T19:32:53.242425Z",
     "start_time": "2023-02-27T19:32:52.808940Z"
    }
   },
   "outputs": [
    {
     "data": {
      "text/plain": [
       "(112.09885934663545, 76.95348180234451, 63.77180891794785, 81.51327345688885)"
      ]
     },
     "execution_count": 82,
     "metadata": {},
     "output_type": "execute_result"
    }
   ],
   "source": [
    "getBaselineHyperparamters(1, 14)"
   ]
  },
  {
   "cell_type": "code",
   "execution_count": 123,
   "id": "87e1f424",
   "metadata": {
    "ExecuteTime": {
     "end_time": "2023-02-27T20:55:50.031908Z",
     "start_time": "2023-02-27T20:55:48.832311Z"
    }
   },
   "outputs": [],
   "source": [
    "rmseList = []\n",
    "meanAbsErrorList = []\n",
    "medianAbsErrorList = []\n",
    "stdAbsErrorList = []\n",
    "meanErrorList = []\n",
    "medianErrorList = []\n",
    "stdErrorList = []\n",
    "meanAccuracyList = []\n",
    "medianAccuracyList = []\n",
    "stdAccuracyList = []\n",
    "\n",
    "x = [15, 16, 17, 18, 19, 20, 21, 22, 23, 24, 25, 26, 27, 28, 29, 30, 31]\n",
    "\n",
    "for i in x:\n",
    "    (rmse, (meanAbsError, medianAbsError, stdAbsError), \n",
    "    (meanError, medianError, stdError), \n",
    "    (meanAccuracy, medianAccuracy, stdAccuracy)) = getPredictionHyperparameters(i,i)\n",
    "    rmseList.append(rmse)\n",
    "    meanAbsErrorList.append(meanAbsError)\n",
    "    medianAbsErrorList.append(medianAbsError)\n",
    "    stdAbsErrorList.append(stdAbsError)\n",
    "    meanErrorList.append(meanError)\n",
    "    medianErrorList.append(medianError)\n",
    "    stdErrorList.append(stdError)\n",
    "    meanAccuracyList.append(meanAccuracy)\n",
    "    medianAccuracyList.append(medianAccuracy)\n",
    "    stdAccuracyList.append(stdAccuracy)"
   ]
  },
  {
   "cell_type": "code",
   "execution_count": 192,
   "id": "3da6820d",
   "metadata": {
    "ExecuteTime": {
     "end_time": "2023-02-28T07:04:32.532063Z",
     "start_time": "2023-02-28T07:04:32.153134Z"
    }
   },
   "outputs": [
    {
     "data": {
      "image/png": "[encoded data removed]",
      "text/plain": [
       "<Figure size 640x480 with 1 Axes>"
      ]
     },
     "metadata": {},
     "output_type": "display_data"
    }
   ],
   "source": [
    "# plot for 15, 20, 25, 30 july \n",
    "plt.bar(x, rmseList)\n",
    "plt.xticks(x)\n",
    "plt.xlabel(\"Date\")\n",
    "plt.ylabel(\"RMSE value on the respective day\")\n",
    "plt.title(\"Model deterioration with days\")\n",
    "plt.savefig(f'{city}_1.png')"
   ]
  },
  {
   "cell_type": "code",
   "execution_count": 193,
   "id": "a7275d7e",
   "metadata": {
    "ExecuteTime": {
     "end_time": "2023-02-28T07:04:38.305601Z",
     "start_time": "2023-02-28T07:04:37.939444Z"
    }
   },
   "outputs": [
    {
     "data": {
      "image/png": "[encoded data removed]",
      "text/plain": [
       "<Figure size 640x480 with 1 Axes>"
      ]
     },
     "metadata": {},
     "output_type": "display_data"
    }
   ],
   "source": [
    "# plot for 15, 20, 25, 30 july \n",
    "plt.bar(x, medianAbsErrorList)\n",
    "plt.xticks(x)\n",
    "plt.xlabel(\"Date\")\n",
    "plt.ylabel(\"Absolute Value of error (median) on the respective day\")\n",
    "plt.title(\"Model deterioration with days\")\n",
    "plt.savefig(f'{city}_3.png')"
   ]
  },
  {
   "cell_type": "code",
   "execution_count": 194,
   "id": "9d98e9e6",
   "metadata": {
    "ExecuteTime": {
     "end_time": "2023-02-28T07:04:40.183837Z",
     "start_time": "2023-02-28T07:04:39.854167Z"
    }
   },
   "outputs": [
    {
     "data": {
      "image/png": "[encoded data removed]",
      "text/plain": [
       "<Figure size 640x480 with 1 Axes>"
      ]
     },
     "metadata": {},
     "output_type": "display_data"
    }
   ],
   "source": [
    "# plot for 15, 20, 25, 30 july \n",
    "plt.errorbar(x, meanErrorList, stdErrorList)\n",
    "plt.xticks(x)\n",
    "plt.xlabel(\"Date\")\n",
    "plt.ylabel(\"error (mean, std dev of the day) on the respective day\")\n",
    "plt.title(\"Model deterioration with days\")\n",
    "plt.savefig(f'{city}_4.png')"
   ]
  },
  {
   "cell_type": "code",
   "execution_count": 195,
   "id": "e4180da9",
   "metadata": {
    "ExecuteTime": {
     "end_time": "2023-02-28T07:04:41.811935Z",
     "start_time": "2023-02-28T07:04:41.469186Z"
    }
   },
   "outputs": [
    {
     "data": {
      "image/png": "[encoded data removed]",
      "text/plain": [
       "<Figure size 640x480 with 1 Axes>"
      ]
     },
     "metadata": {},
     "output_type": "display_data"
    }
   ],
   "source": [
    "# plot for 15, 20, 25, 30 july \n",
    "plt.bar(x, medianErrorList)\n",
    "plt.xticks(x)\n",
    "plt.xlabel(\"Date\")\n",
    "plt.ylabel(\"error (median) on the respective day\")\n",
    "plt.title(\"Model deterioration with days\")\n",
    "plt.savefig(f'{city}_5.png')"
   ]
  },
  {
   "cell_type": "code",
   "execution_count": 200,
   "id": "96ca9374",
   "metadata": {
    "ExecuteTime": {
     "end_time": "2023-02-28T07:06:24.431220Z",
     "start_time": "2023-02-28T07:06:24.104990Z"
    }
   },
   "outputs": [
    {
     "data": {
      "image/png": "[encoded data removed]",
      "text/plain": [
       "<Figure size 640x480 with 1 Axes>"
      ]
     },
     "metadata": {},
     "output_type": "display_data"
    }
   ],
   "source": [
    "# plot for 15, 20, 25, 30 july \n",
    "plt.errorbar(x, meanAccuracyList, stdAccuracyList)\n",
    "plt.xticks(x)\n",
    "plt.xlabel(\"Date\")\n",
    "plt.ylabel(\"Accuracy (mean, std dev of the day) on the respective day\")\n",
    "plt.title(\"Model deterioration with days\")\n",
    "plt.savefig(f'{city}_6.png')\n",
    "\n"
   ]
  },
  {
   "cell_type": "code",
   "execution_count": 199,
   "id": "bcdf4bd8",
   "metadata": {
    "ExecuteTime": {
     "end_time": "2023-02-28T07:06:18.959456Z",
     "start_time": "2023-02-28T07:06:18.611182Z"
    }
   },
   "outputs": [
    {
     "data": {
      "image/png": "[encoded data removed]",
      "text/plain": [
       "<Figure size 640x480 with 1 Axes>"
      ]
     },
     "metadata": {},
     "output_type": "display_data"
    }
   ],
   "source": [
    "# plot for 15, 20, 25, 30 july \n",
    "plt.ylim(0.8, 1)\n",
    "plt.bar(x, medianAccuracyList)\n",
    "plt.xticks(x)\n",
    "plt.xlabel(\"Date\")\n",
    "plt.ylabel(\"Accuracy (median) on the respective day\")\n",
    "plt.title(\"Model deterioration with days\")\n",
    "plt.savefig(f'{city}_7.png')\n"
   ]
  },
  {
   "cell_type": "code",
   "execution_count": 208,
   "id": "433b65a6",
   "metadata": {
    "ExecuteTime": {
     "end_time": "2023-02-28T07:19:56.953036Z",
     "start_time": "2023-02-28T07:19:51.752150Z"
    }
   },
   "outputs": [],
   "source": [
    "# baseline approach\n",
    "# Hourwise avg \n",
    "\n",
    "weekdayHourWiseAvg = {}\n",
    "weekendHourWiseAvg = {}\n",
    "for store in allStoreIds:\n",
    "    weekdayHourWiseAvg[store] = {}\n",
    "    weekendHourWiseAvg[store] = {}\n",
    "for i in range(1, 15):\n",
    "    dt = datetime(2022, 7, i)\n",
    "    for storeId in allStoreIds:\n",
    "        df = restWiseDFs[storeId].loc[(restWiseDFs[storeId]['Kitchen_Display_Time'] >= dt) & \\\n",
    "          (restWiseDFs[storeId]['Kitchen_Display_Time'] < dt+timedelta(days=1))]\n",
    "        for index, item in df.iterrows():\n",
    "            ts = getTimeslot(item['Kitchen_Display_Time'])\n",
    "            if(isHeavyLoadDay(item['Kitchen_Display_Time'])):\n",
    "                if ts not in weekendHourWiseAvg[storeId]:\n",
    "                    weekendHourWiseAvg[storeId][ts] = {'val': 0, 'cnt': 0}\n",
    "                weekendHourWiseAvg[storeId][ts]['val'] += item['prep_time']\n",
    "                weekendHourWiseAvg[storeId][ts]['cnt'] += 1\n",
    "            else:\n",
    "                if ts not in weekdayHourWiseAvg[storeId]:\n",
    "                    weekdayHourWiseAvg[storeId][ts] = {'val': 0, 'cnt': 0}\n",
    "                weekdayHourWiseAvg[storeId][ts]['val'] += item['prep_time']\n",
    "                weekdayHourWiseAvg[storeId][ts]['cnt'] += 1\n",
    "\n",
    "for storeId in allStoreIds:\n",
    "    for ts in weekdayHourWiseAvg[storeId].keys():\n",
    "        weekdayHourWiseAvg[storeId][ts]['val'] = weekdayHourWiseAvg[storeId][ts]['val']/weekdayHourWiseAvg[storeId][ts]['cnt']\n",
    "    for ts in weekendHourWiseAvg[storeId].keys():\n",
    "        weekendHourWiseAvg[storeId][ts]['val'] = weekendHourWiseAvg[storeId][ts]['val']/weekendHourWiseAvg[storeId][ts]['cnt']\n",
    "        \n",
    "\n",
    "        \n",
    "        "
   ]
  },
  {
   "cell_type": "code",
   "execution_count": null,
   "id": "e2294124",
   "metadata": {},
   "outputs": [],
   "source": [
    "for storeId in allStoreIds:\n",
    "    df = restWiseDFs[storeId].loc[]"
   ]
  },
  {
   "cell_type": "code",
   "execution_count": 209,
   "id": "b374a0a7",
   "metadata": {
    "ExecuteTime": {
     "end_time": "2023-02-28T07:20:20.624750Z",
     "start_time": "2023-02-28T07:20:20.593623Z"
    },
    "collapsed": true
   },
   "outputs": [
    {
     "data": {
      "text/plain": [
       "{'DPI66576': {11: {'val': 551.0727272727273, 'cnt': 110},\n",
       "  12: {'val': 521.3619047619047, 'cnt': 210},\n",
       "  13: {'val': 525.8921161825726, 'cnt': 241},\n",
       "  14: {'val': 511.5, 'cnt': 244},\n",
       "  15: {'val': 502.7537878787879, 'cnt': 264},\n",
       "  16: {'val': 507.8956834532374, 'cnt': 278},\n",
       "  17: {'val': 525.8942857142857, 'cnt': 350},\n",
       "  18: {'val': 525.9055118110236, 'cnt': 381},\n",
       "  19: {'val': 545.1215226939971, 'cnt': 683},\n",
       "  20: {'val': 579.1395348837209, 'cnt': 774},\n",
       "  21: {'val': 540.4330578512397, 'cnt': 605},\n",
       "  22: {'val': 541.7964071856287, 'cnt': 334},\n",
       "  23: {'val': 500.5740740740741, 'cnt': 108}},\n",
       " 'DPI66154': {11: {'val': 481.3424657534247, 'cnt': 73},\n",
       "  12: {'val': 471.0, 'cnt': 81},\n",
       "  13: {'val': 480.5486725663717, 'cnt': 113},\n",
       "  14: {'val': 483.7014925373134, 'cnt': 201},\n",
       "  15: {'val': 476.34806629834253, 'cnt': 181},\n",
       "  16: {'val': 481.3252427184466, 'cnt': 206},\n",
       "  17: {'val': 488.6051502145923, 'cnt': 233},\n",
       "  18: {'val': 506.5905172413793, 'cnt': 232},\n",
       "  19: {'val': 501.98789346246974, 'cnt': 413},\n",
       "  20: {'val': 513.6497797356828, 'cnt': 454},\n",
       "  21: {'val': 520.1558441558442, 'cnt': 385},\n",
       "  22: {'val': 506.5140186915888, 'cnt': 214},\n",
       "  23: {'val': 528.6241134751773, 'cnt': 141},\n",
       "  0: {'val': 777.0, 'cnt': 1}},\n",
       " 'DPI66449': {11: {'val': 497.1578947368421, 'cnt': 114},\n",
       "  12: {'val': 491.1155378486056, 'cnt': 251},\n",
       "  13: {'val': 536.7879656160459, 'cnt': 349},\n",
       "  14: {'val': 536.2391304347826, 'cnt': 414},\n",
       "  15: {'val': 566.5072115384615, 'cnt': 416},\n",
       "  16: {'val': 516.14, 'cnt': 350},\n",
       "  17: {'val': 558.5518867924528, 'cnt': 424},\n",
       "  18: {'val': 572.2198852772467, 'cnt': 523},\n",
       "  19: {'val': 585.8307453416149, 'cnt': 644},\n",
       "  20: {'val': 633.7020785219399, 'cnt': 866},\n",
       "  21: {'val': 635.5259631490787, 'cnt': 597},\n",
       "  22: {'val': 636.1370967741935, 'cnt': 372},\n",
       "  23: {'val': 653.016393442623, 'cnt': 122},\n",
       "  0: {'val': 445.0, 'cnt': 1}},\n",
       " 'DPI66313': {11: {'val': 469.03846153846155, 'cnt': 78},\n",
       "  12: {'val': 458.3288590604027, 'cnt': 149},\n",
       "  13: {'val': 460.45971563981044, 'cnt': 211},\n",
       "  14: {'val': 469.7424892703863, 'cnt': 233},\n",
       "  15: {'val': 467.6211453744493, 'cnt': 227},\n",
       "  16: {'val': 468.7717391304348, 'cnt': 184},\n",
       "  17: {'val': 458.61722488038276, 'cnt': 209},\n",
       "  18: {'val': 459.8338108882522, 'cnt': 349},\n",
       "  19: {'val': 456.077731092437, 'cnt': 476},\n",
       "  20: {'val': 455.4717514124294, 'cnt': 708},\n",
       "  21: {'val': 461.15671641791045, 'cnt': 536},\n",
       "  22: {'val': 458.31654676258995, 'cnt': 278},\n",
       "  23: {'val': 497.34722222222223, 'cnt': 72}},\n",
       " 'DPI63827': {11: {'val': 473.0576923076923, 'cnt': 52},\n",
       "  12: {'val': 475.4433962264151, 'cnt': 106},\n",
       "  13: {'val': 456.68939393939394, 'cnt': 132},\n",
       "  14: {'val': 465.63849765258215, 'cnt': 213},\n",
       "  15: {'val': 478.7129186602871, 'cnt': 209},\n",
       "  16: {'val': 464.53225806451616, 'cnt': 248},\n",
       "  17: {'val': 473.56877323420076, 'cnt': 269},\n",
       "  18: {'val': 502.0035335689046, 'cnt': 283},\n",
       "  19: {'val': 520.2035175879397, 'cnt': 398},\n",
       "  20: {'val': 530.7440476190476, 'cnt': 504},\n",
       "  21: {'val': 533.7986425339367, 'cnt': 442},\n",
       "  22: {'val': 564.8777292576419, 'cnt': 229},\n",
       "  23: {'val': 582.6686746987951, 'cnt': 166},\n",
       "  0: {'val': 427.0, 'cnt': 2}},\n",
       " 'DPI66653': {11: {'val': 479.4117647058824, 'cnt': 68},\n",
       "  12: {'val': 467.9081081081081, 'cnt': 185},\n",
       "  13: {'val': 485.6491935483871, 'cnt': 248},\n",
       "  14: {'val': 490.5527638190955, 'cnt': 199},\n",
       "  15: {'val': 493.3627906976744, 'cnt': 215},\n",
       "  16: {'val': 492.14126394052045, 'cnt': 269},\n",
       "  17: {'val': 478.24642857142857, 'cnt': 280},\n",
       "  18: {'val': 484.2922077922078, 'cnt': 308},\n",
       "  19: {'val': 500.95454545454544, 'cnt': 440},\n",
       "  20: {'val': 509.3103448275862, 'cnt': 551},\n",
       "  21: {'val': 534.8288043478261, 'cnt': 368},\n",
       "  22: {'val': 541.5530303030303, 'cnt': 132},\n",
       "  23: {'val': 550.2142857142857, 'cnt': 56}},\n",
       " 'DPI66221': {11: {'val': 489.3301886792453, 'cnt': 106},\n",
       "  12: {'val': 480.4516129032258, 'cnt': 186},\n",
       "  13: {'val': 486.1769547325103, 'cnt': 243},\n",
       "  14: {'val': 491.12292358803984, 'cnt': 301},\n",
       "  15: {'val': 491.5109034267913, 'cnt': 321},\n",
       "  16: {'val': 485.04912280701757, 'cnt': 285},\n",
       "  17: {'val': 505.33561643835617, 'cnt': 438},\n",
       "  18: {'val': 523.484076433121, 'cnt': 471},\n",
       "  19: {'val': 555.1489361702128, 'cnt': 705},\n",
       "  20: {'val': 562.8913612565445, 'cnt': 764},\n",
       "  21: {'val': 572.849025974026, 'cnt': 616},\n",
       "  22: {'val': 553.6058631921824, 'cnt': 307},\n",
       "  23: {'val': 519.1836734693877, 'cnt': 98}},\n",
       " 'DPI64196': {11: {'val': 538.074074074074, 'cnt': 27},\n",
       "  12: {'val': 481.96875, 'cnt': 64},\n",
       "  13: {'val': 482.42727272727274, 'cnt': 110},\n",
       "  14: {'val': 472.765, 'cnt': 200},\n",
       "  15: {'val': 479.9940476190476, 'cnt': 168},\n",
       "  16: {'val': 481.5833333333333, 'cnt': 300},\n",
       "  17: {'val': 491.3529411764706, 'cnt': 204},\n",
       "  18: {'val': 472.0612244897959, 'cnt': 294},\n",
       "  19: {'val': 449.11944444444447, 'cnt': 360},\n",
       "  20: {'val': 460.07654320987655, 'cnt': 405},\n",
       "  21: {'val': 458.6387283236994, 'cnt': 346},\n",
       "  22: {'val': 496.6256983240223, 'cnt': 179},\n",
       "  23: {'val': 487.95, 'cnt': 40},\n",
       "  10: {'val': 771.0, 'cnt': 4}},\n",
       " 'DPI67072': {11: {'val': 499.8705882352941, 'cnt': 85},\n",
       "  12: {'val': 468.2809917355372, 'cnt': 121},\n",
       "  13: {'val': 480.5943396226415, 'cnt': 212},\n",
       "  14: {'val': 468.21844660194176, 'cnt': 206},\n",
       "  15: {'val': 475.1035856573705, 'cnt': 251},\n",
       "  16: {'val': 484.0429184549356, 'cnt': 233},\n",
       "  17: {'val': 457.112, 'cnt': 250},\n",
       "  18: {'val': 475.3063063063063, 'cnt': 222},\n",
       "  19: {'val': 481.00289855072464, 'cnt': 345},\n",
       "  20: {'val': 491.84871794871793, 'cnt': 390},\n",
       "  21: {'val': 474.82442748091603, 'cnt': 262},\n",
       "  22: {'val': 473.87931034482756, 'cnt': 174},\n",
       "  23: {'val': 491.77142857142854, 'cnt': 105}},\n",
       " 'DPI66373': {11: {'val': 540.4268292682926, 'cnt': 82},\n",
       "  12: {'val': 590.1030303030303, 'cnt': 165},\n",
       "  13: {'val': 548.8354430379746, 'cnt': 237},\n",
       "  14: {'val': 502.3230240549828, 'cnt': 291},\n",
       "  15: {'val': 515.1203703703703, 'cnt': 216},\n",
       "  16: {'val': 513.2813559322034, 'cnt': 295},\n",
       "  17: {'val': 563.2594936708861, 'cnt': 316},\n",
       "  18: {'val': 538.7278911564625, 'cnt': 294},\n",
       "  19: {'val': 539.527027027027, 'cnt': 370},\n",
       "  20: {'val': 585.9157303370787, 'cnt': 534},\n",
       "  21: {'val': 552.1486486486486, 'cnt': 370},\n",
       "  22: {'val': 536.1034482758621, 'cnt': 174},\n",
       "  23: {'val': 552.5915492957746, 'cnt': 71}},\n",
       " 'DPI66153': {11: {'val': 455.0487804878049, 'cnt': 41},\n",
       "  12: {'val': 466.125, 'cnt': 112},\n",
       "  13: {'val': 468.8532608695652, 'cnt': 184},\n",
       "  14: {'val': 469.8787878787879, 'cnt': 264},\n",
       "  15: {'val': 473.078231292517, 'cnt': 294},\n",
       "  16: {'val': 474.65367965367966, 'cnt': 231},\n",
       "  17: {'val': 471.5129151291513, 'cnt': 271},\n",
       "  18: {'val': 476.0899653979239, 'cnt': 289},\n",
       "  19: {'val': 477.20579710144926, 'cnt': 345},\n",
       "  20: {'val': 487.63484486873506, 'cnt': 419},\n",
       "  21: {'val': 484.57894736842104, 'cnt': 323},\n",
       "  22: {'val': 481.89032258064515, 'cnt': 155},\n",
       "  10: {'val': 454.0, 'cnt': 1}},\n",
       " 'DPI63919': {11: {'val': 498.2236842105263, 'cnt': 76},\n",
       "  12: {'val': 474.7165354330709, 'cnt': 127},\n",
       "  13: {'val': 475.4887640449438, 'cnt': 178},\n",
       "  14: {'val': 473.52466367713004, 'cnt': 223},\n",
       "  15: {'val': 498.18055555555554, 'cnt': 216},\n",
       "  16: {'val': 481.9310344827586, 'cnt': 203},\n",
       "  17: {'val': 472.1170212765957, 'cnt': 188},\n",
       "  18: {'val': 484.7546468401487, 'cnt': 269},\n",
       "  19: {'val': 477.9395465994962, 'cnt': 397},\n",
       "  20: {'val': 490.92452830188677, 'cnt': 477},\n",
       "  21: {'val': 495.1389728096677, 'cnt': 331},\n",
       "  22: {'val': 501.65656565656565, 'cnt': 198},\n",
       "  23: {'val': 502.3333333333333, 'cnt': 78}}}"
      ]
     },
     "execution_count": 209,
     "metadata": {},
     "output_type": "execute_result"
    }
   ],
   "source": [
    "def getBaselineHyperparameters(startDay, endDay): # both are included\n",
    "    df = pd.DataFrame()\n",
    "    firstTime = datetime(2022, 7, startDay)\n",
    "    lastTime = datetime(2022, 7, endDay) + timedelta(days=1)\n",
    "    for storeId in allStoreIds:\n",
    "        df2 = restWiseDFs[storeId].loc[(restWiseDFs[storeId]['Kitchen_Display_Time'] >= firstTime) & \\\n",
    "          (restWiseDFs[storeId]['Kitchen_Display_Time'] < lastTime)]\n",
    "        df = pd.concat([df, df2], ignore_index = True)\n",
    "    \n",
    "    rmse = ((df.prep_time - df.predicted_prep_time) ** 2).mean() ** .5\n",
    "    \n",
    "    absError = (abs(df.prep_time - df.predicted_prep_time)).values.tolist()\n",
    "    meanAbsError = statistics.mean(absError)\n",
    "    medianAbsError = statistics.median(absError)\n",
    "    stdAbsError = statistics.stdev(absError)\n",
    "    \n",
    "    error = (df.prep_time - df.predicted_prep_time).values.tolist()\n",
    "    meanError = statistics.mean(error)\n",
    "    medianError = statistics.median(error)\n",
    "    stdError = statistics.stdev(error)\n",
    "    \n",
    "    accuracy = ((df.prep_time - abs(df.prep_time - df.predicted_prep_time))/df.prep_time).values.tolist()\n",
    "    meanAccuracy = statistics.mean(accuracy)\n",
    "    medianAccuracy = statistics.median(accuracy)\n",
    "    stdAccuracy = statistics.stdev(accuracy)\n",
    "    return rmse, (meanAbsError, medianAbsError, stdAbsError), (meanError, medianError, stdError), (meanAccuracy, medianAccuracy, stdAccuracy)"
   ]
  },
  {
   "cell_type": "code",
   "execution_count": null,
   "id": "efeae7d3",
   "metadata": {},
   "outputs": [],
   "source": []
  }
 ],
 "metadata": {
  "kernelspec": {
   "display_name": "Python 3 (ipykernel)",
   "language": "python",
   "name": "python3"
  },
  "language_info": {
   "codemirror_mode": {
    "name": "ipython",
    "version": 3
   },
   "file_extension": ".py",
   "mimetype": "text/x-python",
   "name": "python",
   "nbconvert_exporter": "python",
   "pygments_lexer": "ipython3",
   "version": "3.10.6"
  }
 },
 "nbformat": 4,
 "nbformat_minor": 5
}
